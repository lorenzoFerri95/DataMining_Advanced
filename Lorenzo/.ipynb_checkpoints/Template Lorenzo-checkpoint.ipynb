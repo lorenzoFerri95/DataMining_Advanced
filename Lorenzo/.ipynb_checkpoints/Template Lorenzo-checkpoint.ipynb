{
 "cells": [
  {
   "cell_type": "markdown",
   "metadata": {},
   "source": [
    "**Python version:**  3.x"
   ]
  },
  {
   "cell_type": "code",
   "execution_count": 1,
   "metadata": {},
   "outputs": [],
   "source": [
    "# set the path of the directories where your modules and files are\n",
    "modulesPath = 'C:\\\\Users\\loren\\Documents\\Progetti\\__repo__\\_myModules'\n",
    "filesPath = 'C:\\\\Users\\loren\\Documents\\Progetti\\Scuola\\AdvDataMining\\_files'"
   ]
  },
  {
   "cell_type": "markdown",
   "metadata": {},
   "source": [
    "#### Moduli"
   ]
  },
  {
   "cell_type": "code",
   "execution_count": 2,
   "metadata": {},
   "outputs": [
    {
     "name": "stdout",
     "output_type": "stream",
     "text": [
      "Available Files and Modules for the project:\n",
      "['datatest.txt', 'datatest2.txt', 'datatraining.txt', 'data_preparation.py', 'data_understanding.py', 'file_handling.py', 'machine_learning.py', '__pycache__']\n"
     ]
    }
   ],
   "source": [
    "import os\n",
    "import sys\n",
    "\n",
    "if os.path.isdir(modulesPath) and modulesPath not in sys.path:\n",
    "    sys.path.append(modulesPath)\n",
    "\n",
    "modulesList = os.listdir(modulesPath)\n",
    "print('Available Modules for the project:', modulesList,sep='\\n', end='\\n\\n')\n",
    "\n",
    "filesList = os.listdir(filesPath)\n",
    "print('Available Files for the project:', filesList,sep='\\n')\n",
    "\n",
    "%matplotlib inline\n",
    "\n",
    "import df_handle\n",
    "import data_understanding\n",
    "import data_preparation\n",
    "import modeling\n",
    "import model_evaluation"
   ]
  },
  {
   "cell_type": "code",
   "execution_count": 4,
   "metadata": {
    "scrolled": true
   },
   "outputs": [],
   "source": [
    "X_train, X_test, y_train, y_test = df_handle.setup_df(trainFileName='datatraining.txt', y_name='Occupancy',\n",
    "                                                      testFileName='datatest.txt', searchIn=filesPath)"
   ]
  }
 ],
 "metadata": {
  "kernelspec": {
   "display_name": "Python 3",
   "language": "python",
   "name": "python3"
  },
  "language_info": {
   "codemirror_mode": {
    "name": "ipython",
    "version": 3
   },
   "file_extension": ".py",
   "mimetype": "text/x-python",
   "name": "python",
   "nbconvert_exporter": "python",
   "pygments_lexer": "ipython3",
   "version": "3.6.5"
  }
 },
 "nbformat": 4,
 "nbformat_minor": 2
}
