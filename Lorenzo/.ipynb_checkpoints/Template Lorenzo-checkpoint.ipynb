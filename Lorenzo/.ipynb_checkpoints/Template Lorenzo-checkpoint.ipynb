{
 "cells": [
  {
   "cell_type": "markdown",
   "metadata": {},
   "source": [
    "**Python version:**  3.x"
   ]
  },
  {
   "cell_type": "code",
   "execution_count": 1,
   "metadata": {},
   "outputs": [],
   "source": [
    "# set the path of the directories where your modules and files are\n",
    "modules_path = 'C:\\\\Users\\loren\\Documents\\Progetti\\__repo__\\_Modules_LF95'\n",
    "files_path = 'C:\\\\Users\\loren\\Documents\\Progetti\\Scuola\\DataMining_Advanced\\_files'"
   ]
  },
  {
   "cell_type": "markdown",
   "metadata": {},
   "source": [
    "#### Moduli"
   ]
  },
  {
   "cell_type": "code",
   "execution_count": 2,
   "metadata": {},
   "outputs": [
    {
     "name": "stdout",
     "output_type": "stream",
     "text": [
      "Available Files and Modules for the project:\n",
      "['datatest.txt', 'datatest2.txt', 'datatraining.txt', 'data_preparation.py', 'data_understanding.py', 'file_handling.py', 'machine_learning.py', '__pycache__']\n"
     ]
    }
   ],
   "source": [
    "import os\n",
    "import sys\n",
    "\n",
    "if os.path.isdir(modules_path) and (modules_path not in sys.path):\n",
    "    sys.path.append(modules_path)\n",
    "\n",
    "files_list = os.listdir(files_path)\n",
    "print('available files for the project:', files_list, sep='\\n')\n",
    "\n",
    "%matplotlib inline\n",
    "\n",
    "from data_science.preprocessing import df_handle\n",
    "from data_science.preprocessing import data_understanding\n",
    "from data_science.preprocessing import data_preparation\n",
    "from data_science.modeling import unsupervised_learning\n",
    "from data_science.evaluation import unsupervised_evaluation"
   ]
  },
  {
   "cell_type": "code",
   "execution_count": null,
   "metadata": {},
   "outputs": [],
   "source": [
    "df, ts = df_handle.import_df(file_name='dataset.csv', search_in_folder=files_path,\n",
    "                             date_col_name='date', ts_name='Temperature', time_freq='min')\n",
    "df"
   ]
  },
  {
   "cell_type": "code",
   "execution_count": 4,
   "metadata": {
    "scrolled": true
   },
   "outputs": [],
   "source": [
    "X_train, X_test, y_train, y_test = df_handle.ml_setup(trainFile_name='training.csv', y_name='Occupancy',\n",
    "                                                      testFile_name='test1.csv', search_in_folder=files_path,\n",
    "                                                      date_col_name='date')"
   ]
  }
 ],
 "metadata": {
  "kernelspec": {
   "display_name": "Python 3",
   "language": "python",
   "name": "python3"
  },
  "language_info": {
   "codemirror_mode": {
    "name": "ipython",
    "version": 3
   },
   "file_extension": ".py",
   "mimetype": "text/x-python",
   "name": "python",
   "nbconvert_exporter": "python",
   "pygments_lexer": "ipython3",
   "version": "3.7.6"
  }
 },
 "nbformat": 4,
 "nbformat_minor": 2
}
