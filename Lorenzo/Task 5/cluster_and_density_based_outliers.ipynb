{
 "cells": [
  {
   "cell_type": "markdown",
   "metadata": {},
   "source": [
    "**Python version:**  3.x"
   ]
  },
  {
   "cell_type": "code",
   "execution_count": 1,
   "metadata": {},
   "outputs": [],
   "source": [
    "# set the path of the directories where your modules and files are\n",
    "modules_path = 'C:\\\\Users\\loren\\Documents\\Progetti\\__repo__\\_Modules_LF95'\n",
    "files_path = 'C:\\\\Users\\loren\\Documents\\Progetti\\Scuola\\DataMining_Advanced\\_files'"
   ]
  },
  {
   "cell_type": "markdown",
   "metadata": {},
   "source": [
    "#### Moduli"
   ]
  },
  {
   "cell_type": "code",
   "execution_count": 2,
   "metadata": {
    "scrolled": true
   },
   "outputs": [
    {
     "name": "stdout",
     "output_type": "stream",
     "text": [
      "available files for the project:\n",
      "['dataset.csv', 'datatest.txt', 'datatest2.txt', 'datatraining.txt', 'test1.csv', 'test2.csv', 'training.csv']\n"
     ]
    }
   ],
   "source": [
    "import os\n",
    "import sys\n",
    "\n",
    "if os.path.isdir(modules_path) and (modules_path not in sys.path):\n",
    "    sys.path.append(modules_path)\n",
    "\n",
    "files_list = os.listdir(files_path)\n",
    "print('available files for the project:', files_list, sep='\\n')\n",
    "\n",
    "%matplotlib inline\n",
    "\n",
    "from data_science.preprocessing import df_handle\n",
    "from data_science.preprocessing import data_understanding\n",
    "from data_science.preprocessing import data_preparation\n",
    "from data_science.modeling import unsupervised_learning\n",
    "from data_science.evaluation import unsupervised_evaluation"
   ]
  },
  {
   "cell_type": "code",
   "execution_count": 3,
   "metadata": {},
   "outputs": [],
   "source": [
    "import matplotlib.pyplot as plt\n",
    "import numpy as np\n",
    "import pandas as pd"
   ]
  },
  {
   "cell_type": "code",
   "execution_count": 4,
   "metadata": {
    "scrolled": true
   },
   "outputs": [
    {
     "data": {
      "text/html": [
       "<div>\n",
       "<style scoped>\n",
       "    .dataframe tbody tr th:only-of-type {\n",
       "        vertical-align: middle;\n",
       "    }\n",
       "\n",
       "    .dataframe tbody tr th {\n",
       "        vertical-align: top;\n",
       "    }\n",
       "\n",
       "    .dataframe thead th {\n",
       "        text-align: right;\n",
       "    }\n",
       "</style>\n",
       "<table border=\"1\" class=\"dataframe\">\n",
       "  <thead>\n",
       "    <tr style=\"text-align: right;\">\n",
       "      <th></th>\n",
       "      <th>Temperature</th>\n",
       "      <th>Humidity</th>\n",
       "      <th>Light</th>\n",
       "      <th>CO2</th>\n",
       "      <th>HumidityRatio</th>\n",
       "      <th>Occupancy</th>\n",
       "      <th>year</th>\n",
       "      <th>month</th>\n",
       "      <th>day</th>\n",
       "      <th>hour</th>\n",
       "      <th>minute</th>\n",
       "      <th>second</th>\n",
       "    </tr>\n",
       "    <tr>\n",
       "      <th>date</th>\n",
       "      <th></th>\n",
       "      <th></th>\n",
       "      <th></th>\n",
       "      <th></th>\n",
       "      <th></th>\n",
       "      <th></th>\n",
       "      <th></th>\n",
       "      <th></th>\n",
       "      <th></th>\n",
       "      <th></th>\n",
       "      <th></th>\n",
       "      <th></th>\n",
       "    </tr>\n",
       "  </thead>\n",
       "  <tbody>\n",
       "    <tr>\n",
       "      <th>2015-02-02 14:19:00</th>\n",
       "      <td>23.7000</td>\n",
       "      <td>26.2720</td>\n",
       "      <td>585.200000</td>\n",
       "      <td>749.200000</td>\n",
       "      <td>0.004764</td>\n",
       "      <td>1</td>\n",
       "      <td>2015</td>\n",
       "      <td>2</td>\n",
       "      <td>2</td>\n",
       "      <td>14</td>\n",
       "      <td>19</td>\n",
       "      <td>0</td>\n",
       "    </tr>\n",
       "    <tr>\n",
       "      <th>2015-02-02 14:20:00</th>\n",
       "      <td>23.7180</td>\n",
       "      <td>26.2900</td>\n",
       "      <td>578.400000</td>\n",
       "      <td>760.400000</td>\n",
       "      <td>0.004773</td>\n",
       "      <td>1</td>\n",
       "      <td>2015</td>\n",
       "      <td>2</td>\n",
       "      <td>2</td>\n",
       "      <td>14</td>\n",
       "      <td>20</td>\n",
       "      <td>0</td>\n",
       "    </tr>\n",
       "    <tr>\n",
       "      <th>2015-02-02 14:21:00</th>\n",
       "      <td>23.7300</td>\n",
       "      <td>26.2300</td>\n",
       "      <td>572.666667</td>\n",
       "      <td>769.666667</td>\n",
       "      <td>0.004765</td>\n",
       "      <td>1</td>\n",
       "      <td>2015</td>\n",
       "      <td>2</td>\n",
       "      <td>2</td>\n",
       "      <td>14</td>\n",
       "      <td>21</td>\n",
       "      <td>0</td>\n",
       "    </tr>\n",
       "    <tr>\n",
       "      <th>2015-02-02 14:22:00</th>\n",
       "      <td>23.7225</td>\n",
       "      <td>26.1250</td>\n",
       "      <td>493.750000</td>\n",
       "      <td>774.750000</td>\n",
       "      <td>0.004744</td>\n",
       "      <td>1</td>\n",
       "      <td>2015</td>\n",
       "      <td>2</td>\n",
       "      <td>2</td>\n",
       "      <td>14</td>\n",
       "      <td>22</td>\n",
       "      <td>0</td>\n",
       "    </tr>\n",
       "    <tr>\n",
       "      <th>2015-02-02 14:23:00</th>\n",
       "      <td>23.7540</td>\n",
       "      <td>26.2000</td>\n",
       "      <td>488.600000</td>\n",
       "      <td>779.000000</td>\n",
       "      <td>0.004767</td>\n",
       "      <td>1</td>\n",
       "      <td>2015</td>\n",
       "      <td>2</td>\n",
       "      <td>2</td>\n",
       "      <td>14</td>\n",
       "      <td>23</td>\n",
       "      <td>0</td>\n",
       "    </tr>\n",
       "    <tr>\n",
       "      <th>...</th>\n",
       "      <td>...</td>\n",
       "      <td>...</td>\n",
       "      <td>...</td>\n",
       "      <td>...</td>\n",
       "      <td>...</td>\n",
       "      <td>...</td>\n",
       "      <td>...</td>\n",
       "      <td>...</td>\n",
       "      <td>...</td>\n",
       "      <td>...</td>\n",
       "      <td>...</td>\n",
       "      <td>...</td>\n",
       "    </tr>\n",
       "    <tr>\n",
       "      <th>2015-02-18 09:15:00</th>\n",
       "      <td>20.8150</td>\n",
       "      <td>27.7175</td>\n",
       "      <td>429.750000</td>\n",
       "      <td>1505.250000</td>\n",
       "      <td>0.004213</td>\n",
       "      <td>1</td>\n",
       "      <td>2015</td>\n",
       "      <td>2</td>\n",
       "      <td>18</td>\n",
       "      <td>9</td>\n",
       "      <td>15</td>\n",
       "      <td>0</td>\n",
       "    </tr>\n",
       "    <tr>\n",
       "      <th>2015-02-18 09:16:00</th>\n",
       "      <td>20.8650</td>\n",
       "      <td>27.7450</td>\n",
       "      <td>423.500000</td>\n",
       "      <td>1514.500000</td>\n",
       "      <td>0.004230</td>\n",
       "      <td>1</td>\n",
       "      <td>2015</td>\n",
       "      <td>2</td>\n",
       "      <td>18</td>\n",
       "      <td>9</td>\n",
       "      <td>16</td>\n",
       "      <td>0</td>\n",
       "    </tr>\n",
       "    <tr>\n",
       "      <th>2015-02-18 09:17:00</th>\n",
       "      <td>20.8900</td>\n",
       "      <td>27.7450</td>\n",
       "      <td>423.500000</td>\n",
       "      <td>1521.500000</td>\n",
       "      <td>0.004237</td>\n",
       "      <td>1</td>\n",
       "      <td>2015</td>\n",
       "      <td>2</td>\n",
       "      <td>18</td>\n",
       "      <td>9</td>\n",
       "      <td>17</td>\n",
       "      <td>0</td>\n",
       "    </tr>\n",
       "    <tr>\n",
       "      <th>2015-02-18 09:18:00</th>\n",
       "      <td>20.8900</td>\n",
       "      <td>28.0225</td>\n",
       "      <td>418.750000</td>\n",
       "      <td>1632.000000</td>\n",
       "      <td>0.004279</td>\n",
       "      <td>1</td>\n",
       "      <td>2015</td>\n",
       "      <td>2</td>\n",
       "      <td>18</td>\n",
       "      <td>9</td>\n",
       "      <td>18</td>\n",
       "      <td>0</td>\n",
       "    </tr>\n",
       "    <tr>\n",
       "      <th>2015-02-18 09:19:00</th>\n",
       "      <td>21.0000</td>\n",
       "      <td>28.1000</td>\n",
       "      <td>409.000000</td>\n",
       "      <td>1864.000000</td>\n",
       "      <td>0.004321</td>\n",
       "      <td>1</td>\n",
       "      <td>2015</td>\n",
       "      <td>2</td>\n",
       "      <td>18</td>\n",
       "      <td>9</td>\n",
       "      <td>19</td>\n",
       "      <td>0</td>\n",
       "    </tr>\n",
       "  </tbody>\n",
       "</table>\n",
       "<p>20560 rows × 12 columns</p>\n",
       "</div>"
      ],
      "text/plain": [
       "                     Temperature  Humidity       Light          CO2  \\\n",
       "date                                                                  \n",
       "2015-02-02 14:19:00      23.7000   26.2720  585.200000   749.200000   \n",
       "2015-02-02 14:20:00      23.7180   26.2900  578.400000   760.400000   \n",
       "2015-02-02 14:21:00      23.7300   26.2300  572.666667   769.666667   \n",
       "2015-02-02 14:22:00      23.7225   26.1250  493.750000   774.750000   \n",
       "2015-02-02 14:23:00      23.7540   26.2000  488.600000   779.000000   \n",
       "...                          ...       ...         ...          ...   \n",
       "2015-02-18 09:15:00      20.8150   27.7175  429.750000  1505.250000   \n",
       "2015-02-18 09:16:00      20.8650   27.7450  423.500000  1514.500000   \n",
       "2015-02-18 09:17:00      20.8900   27.7450  423.500000  1521.500000   \n",
       "2015-02-18 09:18:00      20.8900   28.0225  418.750000  1632.000000   \n",
       "2015-02-18 09:19:00      21.0000   28.1000  409.000000  1864.000000   \n",
       "\n",
       "                     HumidityRatio  Occupancy  year  month  day  hour  minute  \\\n",
       "date                                                                            \n",
       "2015-02-02 14:19:00       0.004764          1  2015      2    2    14      19   \n",
       "2015-02-02 14:20:00       0.004773          1  2015      2    2    14      20   \n",
       "2015-02-02 14:21:00       0.004765          1  2015      2    2    14      21   \n",
       "2015-02-02 14:22:00       0.004744          1  2015      2    2    14      22   \n",
       "2015-02-02 14:23:00       0.004767          1  2015      2    2    14      23   \n",
       "...                            ...        ...   ...    ...  ...   ...     ...   \n",
       "2015-02-18 09:15:00       0.004213          1  2015      2   18     9      15   \n",
       "2015-02-18 09:16:00       0.004230          1  2015      2   18     9      16   \n",
       "2015-02-18 09:17:00       0.004237          1  2015      2   18     9      17   \n",
       "2015-02-18 09:18:00       0.004279          1  2015      2   18     9      18   \n",
       "2015-02-18 09:19:00       0.004321          1  2015      2   18     9      19   \n",
       "\n",
       "                     second  \n",
       "date                         \n",
       "2015-02-02 14:19:00       0  \n",
       "2015-02-02 14:20:00       0  \n",
       "2015-02-02 14:21:00       0  \n",
       "2015-02-02 14:22:00       0  \n",
       "2015-02-02 14:23:00       0  \n",
       "...                     ...  \n",
       "2015-02-18 09:15:00       0  \n",
       "2015-02-18 09:16:00       0  \n",
       "2015-02-18 09:17:00       0  \n",
       "2015-02-18 09:18:00       0  \n",
       "2015-02-18 09:19:00       0  \n",
       "\n",
       "[20560 rows x 12 columns]"
      ]
     },
     "execution_count": 4,
     "metadata": {},
     "output_type": "execute_result"
    }
   ],
   "source": [
    "df = df_handle.import_df(file_name='dataset.csv', search_in_folder=files_path, date_col_name='date')\n",
    "df"
   ]
  },
  {
   "cell_type": "code",
   "execution_count": 5,
   "metadata": {},
   "outputs": [],
   "source": [
    "del df['year'], df['month'], df['day'], df['hour'], df['minute'], df['second']"
   ]
  },
  {
   "cell_type": "code",
   "execution_count": 6,
   "metadata": {
    "scrolled": true
   },
   "outputs": [],
   "source": [
    "X = df[['Temperature', 'Humidity', 'Light', 'CO2', 'HumidityRatio']].values\n",
    "y = df['Occupancy']"
   ]
  },
  {
   "cell_type": "markdown",
   "metadata": {},
   "source": [
    "## Light Outliers"
   ]
  },
  {
   "cell_type": "code",
   "execution_count": 7,
   "metadata": {},
   "outputs": [
    {
     "data": {
      "text/plain": [
       "count    20560.000000\n",
       "mean       130.756622\n",
       "std        210.430875\n",
       "min          0.000000\n",
       "25%          0.000000\n",
       "50%          0.000000\n",
       "75%        301.000000\n",
       "max       1697.250000\n",
       "Name: Light, dtype: float64"
      ]
     },
     "execution_count": 7,
     "metadata": {},
     "output_type": "execute_result"
    }
   ],
   "source": [
    "df['Light'].describe()"
   ]
  },
  {
   "cell_type": "code",
   "execution_count": 8,
   "metadata": {},
   "outputs": [
    {
     "data": {
      "text/plain": [
       "744.0"
      ]
     },
     "execution_count": 8,
     "metadata": {},
     "output_type": "execute_result"
    }
   ],
   "source": [
    "np.percentile(df['Light'], 99)"
   ]
  },
  {
   "cell_type": "code",
   "execution_count": 50,
   "metadata": {
    "scrolled": true
   },
   "outputs": [
    {
     "data": {
      "text/html": [
       "<div>\n",
       "<style scoped>\n",
       "    .dataframe tbody tr th:only-of-type {\n",
       "        vertical-align: middle;\n",
       "    }\n",
       "\n",
       "    .dataframe tbody tr th {\n",
       "        vertical-align: top;\n",
       "    }\n",
       "\n",
       "    .dataframe thead th {\n",
       "        text-align: right;\n",
       "    }\n",
       "</style>\n",
       "<table border=\"1\" class=\"dataframe\">\n",
       "  <thead>\n",
       "    <tr style=\"text-align: right;\">\n",
       "      <th></th>\n",
       "      <th>Temperature</th>\n",
       "      <th>Humidity</th>\n",
       "      <th>Light</th>\n",
       "      <th>CO2</th>\n",
       "      <th>HumidityRatio</th>\n",
       "      <th>Occupancy</th>\n",
       "    </tr>\n",
       "    <tr>\n",
       "      <th>date</th>\n",
       "      <th></th>\n",
       "      <th></th>\n",
       "      <th></th>\n",
       "      <th></th>\n",
       "      <th></th>\n",
       "      <th></th>\n",
       "    </tr>\n",
       "  </thead>\n",
       "  <tbody>\n",
       "    <tr>\n",
       "      <th>2015-02-07 09:42:00</th>\n",
       "      <td>20.700</td>\n",
       "      <td>18.890000</td>\n",
       "      <td>1546.333333</td>\n",
       "      <td>455.333333</td>\n",
       "      <td>0.002845</td>\n",
       "      <td>0</td>\n",
       "    </tr>\n",
       "    <tr>\n",
       "      <th>2015-02-07 09:43:00</th>\n",
       "      <td>20.745</td>\n",
       "      <td>18.890000</td>\n",
       "      <td>1451.750000</td>\n",
       "      <td>453.000000</td>\n",
       "      <td>0.002853</td>\n",
       "      <td>0</td>\n",
       "    </tr>\n",
       "    <tr>\n",
       "      <th>2015-02-07 09:44:00</th>\n",
       "      <td>20.760</td>\n",
       "      <td>18.856667</td>\n",
       "      <td>829.000000</td>\n",
       "      <td>452.666667</td>\n",
       "      <td>0.002850</td>\n",
       "      <td>0</td>\n",
       "    </tr>\n",
       "  </tbody>\n",
       "</table>\n",
       "</div>"
      ],
      "text/plain": [
       "                     Temperature   Humidity        Light         CO2  \\\n",
       "date                                                                   \n",
       "2015-02-07 09:42:00       20.700  18.890000  1546.333333  455.333333   \n",
       "2015-02-07 09:43:00       20.745  18.890000  1451.750000  453.000000   \n",
       "2015-02-07 09:44:00       20.760  18.856667   829.000000  452.666667   \n",
       "\n",
       "                     HumidityRatio  Occupancy  \n",
       "date                                           \n",
       "2015-02-07 09:42:00       0.002845          0  \n",
       "2015-02-07 09:43:00       0.002853          0  \n",
       "2015-02-07 09:44:00       0.002850          0  "
      ]
     },
     "execution_count": 50,
     "metadata": {},
     "output_type": "execute_result"
    }
   ],
   "source": [
    "df.loc[df['Light'] > 744].loc[df['Occupancy'] == 0]"
   ]
  },
  {
   "cell_type": "code",
   "execution_count": 10,
   "metadata": {
    "collapsed": true
   },
   "outputs": [
    {
     "data": {
      "image/png": "[encoded data removed]",
      "text/plain": [
       "<Figure size 432x288 with 1 Axes>"
      ]
     },
     "metadata": {
      "needs_background": "light"
     },
     "output_type": "display_data"
    }
   ],
   "source": [
    "binsN = round(np.log2(len(df)) + 1)\n",
    "plt.hist(df['Light'], bins=int(binsN))\n",
    "plt.axvline(744, color='red')\n",
    "plt.text(1000, 5000, '1% Outliers', size=13)\n",
    "plt.title('Light Outliers', pad=15, size=15)\n",
    "plt.ylabel('Light Frequencies', size=12)\n",
    "plt.xlabel('Light Values', size=12)\n",
    "plt.show()"
   ]
  },
  {
   "cell_type": "markdown",
   "metadata": {},
   "source": [
    "## DBSCAN"
   ]
  },
  {
   "cell_type": "code",
   "execution_count": 7,
   "metadata": {},
   "outputs": [
    {
     "data": {
      "image/png": "[encoded data removed]",
      "text/plain": [
       "<Figure size 432x288 with 1 Axes>"
      ]
     },
     "metadata": {
      "needs_background": "light"
     },
     "output_type": "display_data"
    }
   ],
   "source": [
    "unsupervised_learning.kth_neighbor_distance_plot(X, kth_neighbor=5, dist_type='cityblock', ymax=200, xmin=15000)"
   ]
  },
  {
   "cell_type": "code",
   "execution_count": 7,
   "metadata": {},
   "outputs": [
    {
     "data": {
      "text/plain": [
       "DBSCAN(algorithm='auto', eps=25, leaf_size=30, metric='euclidean',\n",
       "       metric_params=None, min_samples=5, n_jobs=None, p=None)"
      ]
     },
     "execution_count": 7,
     "metadata": {},
     "output_type": "execute_result"
    }
   ],
   "source": [
    "dbscan = unsupervised_learning.DBSCAN(eps=25, min_samples=5)\n",
    "dbscan.fit(X)"
   ]
  },
  {
   "cell_type": "code",
   "execution_count": 8,
   "metadata": {},
   "outputs": [
    {
     "data": {
      "text/plain": [
       "(array([-1,  0,  1,  2,  3,  4,  5,  6,  7,  8,  9], dtype=int64),\n",
       " array([   52, 19978,   155,    21,    33,    31,    12,     5,   229,\n",
       "           36,     8], dtype=int64))"
      ]
     },
     "execution_count": 8,
     "metadata": {},
     "output_type": "execute_result"
    }
   ],
   "source": [
    "np.unique(dbscan.labels_, return_counts=True)"
   ]
  },
  {
   "cell_type": "code",
   "execution_count": 53,
   "metadata": {
    "scrolled": true
   },
   "outputs": [
    {
     "data": {
      "text/html": [
       "<div>\n",
       "<style scoped>\n",
       "    .dataframe tbody tr th:only-of-type {\n",
       "        vertical-align: middle;\n",
       "    }\n",
       "\n",
       "    .dataframe tbody tr th {\n",
       "        vertical-align: top;\n",
       "    }\n",
       "\n",
       "    .dataframe thead th {\n",
       "        text-align: right;\n",
       "    }\n",
       "</style>\n",
       "<table border=\"1\" class=\"dataframe\">\n",
       "  <thead>\n",
       "    <tr style=\"text-align: right;\">\n",
       "      <th></th>\n",
       "      <th>Temperature</th>\n",
       "      <th>Humidity</th>\n",
       "      <th>Light</th>\n",
       "      <th>CO2</th>\n",
       "      <th>HumidityRatio</th>\n",
       "      <th>Occupancy</th>\n",
       "    </tr>\n",
       "    <tr>\n",
       "      <th>date</th>\n",
       "      <th></th>\n",
       "      <th></th>\n",
       "      <th></th>\n",
       "      <th></th>\n",
       "      <th></th>\n",
       "      <th></th>\n",
       "    </tr>\n",
       "  </thead>\n",
       "  <tbody>\n",
       "    <tr>\n",
       "      <th>2015-02-03 13:10:00</th>\n",
       "      <td>23.260000</td>\n",
       "      <td>25.856667</td>\n",
       "      <td>338.333333</td>\n",
       "      <td>997.333333</td>\n",
       "      <td>0.004565</td>\n",
       "      <td>0</td>\n",
       "    </tr>\n",
       "    <tr>\n",
       "      <th>2015-02-07 09:41:00</th>\n",
       "      <td>20.700000</td>\n",
       "      <td>18.890000</td>\n",
       "      <td>611.500000</td>\n",
       "      <td>452.250000</td>\n",
       "      <td>0.002845</td>\n",
       "      <td>0</td>\n",
       "    </tr>\n",
       "    <tr>\n",
       "      <th>2015-02-07 09:42:00</th>\n",
       "      <td>20.700000</td>\n",
       "      <td>18.890000</td>\n",
       "      <td>1546.333333</td>\n",
       "      <td>455.333333</td>\n",
       "      <td>0.002845</td>\n",
       "      <td>0</td>\n",
       "    </tr>\n",
       "    <tr>\n",
       "      <th>2015-02-07 09:43:00</th>\n",
       "      <td>20.745000</td>\n",
       "      <td>18.890000</td>\n",
       "      <td>1451.750000</td>\n",
       "      <td>453.000000</td>\n",
       "      <td>0.002853</td>\n",
       "      <td>0</td>\n",
       "    </tr>\n",
       "    <tr>\n",
       "      <th>2015-02-07 09:44:00</th>\n",
       "      <td>20.760000</td>\n",
       "      <td>18.856667</td>\n",
       "      <td>829.000000</td>\n",
       "      <td>452.666667</td>\n",
       "      <td>0.002850</td>\n",
       "      <td>0</td>\n",
       "    </tr>\n",
       "    <tr>\n",
       "      <th>2015-02-09 13:34:00</th>\n",
       "      <td>21.166667</td>\n",
       "      <td>32.790000</td>\n",
       "      <td>167.000000</td>\n",
       "      <td>1117.333333</td>\n",
       "      <td>0.005100</td>\n",
       "      <td>0</td>\n",
       "    </tr>\n",
       "    <tr>\n",
       "      <th>2015-02-12 08:22:00</th>\n",
       "      <td>20.600000</td>\n",
       "      <td>21.926667</td>\n",
       "      <td>24.000000</td>\n",
       "      <td>1051.333333</td>\n",
       "      <td>0.003284</td>\n",
       "      <td>0</td>\n",
       "    </tr>\n",
       "    <tr>\n",
       "      <th>2015-02-12 11:19:00</th>\n",
       "      <td>24.100000</td>\n",
       "      <td>22.472500</td>\n",
       "      <td>277.750000</td>\n",
       "      <td>969.500000</td>\n",
       "      <td>0.004170</td>\n",
       "      <td>0</td>\n",
       "    </tr>\n",
       "    <tr>\n",
       "      <th>2015-02-12 12:41:00</th>\n",
       "      <td>24.200000</td>\n",
       "      <td>22.700000</td>\n",
       "      <td>336.333333</td>\n",
       "      <td>726.333333</td>\n",
       "      <td>0.004238</td>\n",
       "      <td>0</td>\n",
       "    </tr>\n",
       "    <tr>\n",
       "      <th>2015-02-12 12:42:00</th>\n",
       "      <td>24.200000</td>\n",
       "      <td>23.022500</td>\n",
       "      <td>497.000000</td>\n",
       "      <td>722.000000</td>\n",
       "      <td>0.004299</td>\n",
       "      <td>0</td>\n",
       "    </tr>\n",
       "    <tr>\n",
       "      <th>2015-02-12 13:25:00</th>\n",
       "      <td>24.200000</td>\n",
       "      <td>23.700000</td>\n",
       "      <td>630.000000</td>\n",
       "      <td>734.000000</td>\n",
       "      <td>0.004426</td>\n",
       "      <td>0</td>\n",
       "    </tr>\n",
       "    <tr>\n",
       "      <th>2015-02-12 13:26:00</th>\n",
       "      <td>24.200000</td>\n",
       "      <td>23.745000</td>\n",
       "      <td>690.500000</td>\n",
       "      <td>729.000000</td>\n",
       "      <td>0.004435</td>\n",
       "      <td>0</td>\n",
       "    </tr>\n",
       "    <tr>\n",
       "      <th>2015-02-13 13:37:00</th>\n",
       "      <td>23.790000</td>\n",
       "      <td>25.575000</td>\n",
       "      <td>262.666667</td>\n",
       "      <td>545.333333</td>\n",
       "      <td>0.004662</td>\n",
       "      <td>0</td>\n",
       "    </tr>\n",
       "    <tr>\n",
       "      <th>2015-02-14 10:53:00</th>\n",
       "      <td>20.390000</td>\n",
       "      <td>36.000000</td>\n",
       "      <td>345.000000</td>\n",
       "      <td>517.000000</td>\n",
       "      <td>0.005340</td>\n",
       "      <td>0</td>\n",
       "    </tr>\n",
       "    <tr>\n",
       "      <th>2015-02-14 10:54:00</th>\n",
       "      <td>20.500000</td>\n",
       "      <td>36.000000</td>\n",
       "      <td>362.500000</td>\n",
       "      <td>518.000000</td>\n",
       "      <td>0.005377</td>\n",
       "      <td>0</td>\n",
       "    </tr>\n",
       "    <tr>\n",
       "      <th>2015-02-14 11:58:00</th>\n",
       "      <td>20.823333</td>\n",
       "      <td>34.790000</td>\n",
       "      <td>305.000000</td>\n",
       "      <td>504.333333</td>\n",
       "      <td>0.005300</td>\n",
       "      <td>0</td>\n",
       "    </tr>\n",
       "    <tr>\n",
       "      <th>2015-02-14 13:05:00</th>\n",
       "      <td>20.700000</td>\n",
       "      <td>34.845000</td>\n",
       "      <td>287.000000</td>\n",
       "      <td>498.500000</td>\n",
       "      <td>0.005268</td>\n",
       "      <td>0</td>\n",
       "    </tr>\n",
       "    <tr>\n",
       "      <th>2015-02-17 08:38:00</th>\n",
       "      <td>20.600000</td>\n",
       "      <td>30.500000</td>\n",
       "      <td>101.333333</td>\n",
       "      <td>787.666667</td>\n",
       "      <td>0.004578</td>\n",
       "      <td>0</td>\n",
       "    </tr>\n",
       "    <tr>\n",
       "      <th>2015-02-17 13:26:00</th>\n",
       "      <td>21.675000</td>\n",
       "      <td>33.067500</td>\n",
       "      <td>101.000000</td>\n",
       "      <td>1117.500000</td>\n",
       "      <td>0.005308</td>\n",
       "      <td>0</td>\n",
       "    </tr>\n",
       "    <tr>\n",
       "      <th>2015-02-17 13:27:00</th>\n",
       "      <td>21.633333</td>\n",
       "      <td>33.163333</td>\n",
       "      <td>332.666667</td>\n",
       "      <td>1129.333333</td>\n",
       "      <td>0.005310</td>\n",
       "      <td>0</td>\n",
       "    </tr>\n",
       "    <tr>\n",
       "      <th>2015-02-17 18:06:00</th>\n",
       "      <td>22.166667</td>\n",
       "      <td>34.260000</td>\n",
       "      <td>279.333333</td>\n",
       "      <td>1595.666667</td>\n",
       "      <td>0.005670</td>\n",
       "      <td>0</td>\n",
       "    </tr>\n",
       "    <tr>\n",
       "      <th>2015-02-17 22:56:00</th>\n",
       "      <td>20.790000</td>\n",
       "      <td>30.926667</td>\n",
       "      <td>0.000000</td>\n",
       "      <td>2072.000000</td>\n",
       "      <td>0.004697</td>\n",
       "      <td>0</td>\n",
       "    </tr>\n",
       "    <tr>\n",
       "      <th>2015-02-18 00:41:00</th>\n",
       "      <td>20.890000</td>\n",
       "      <td>28.700000</td>\n",
       "      <td>0.000000</td>\n",
       "      <td>1879.500000</td>\n",
       "      <td>0.004384</td>\n",
       "      <td>0</td>\n",
       "    </tr>\n",
       "    <tr>\n",
       "      <th>2015-02-18 01:49:00</th>\n",
       "      <td>20.790000</td>\n",
       "      <td>27.390000</td>\n",
       "      <td>0.000000</td>\n",
       "      <td>2065.750000</td>\n",
       "      <td>0.004156</td>\n",
       "      <td>0</td>\n",
       "    </tr>\n",
       "    <tr>\n",
       "      <th>2015-02-18 01:51:00</th>\n",
       "      <td>20.790000</td>\n",
       "      <td>27.245000</td>\n",
       "      <td>0.000000</td>\n",
       "      <td>2076.500000</td>\n",
       "      <td>0.004134</td>\n",
       "      <td>0</td>\n",
       "    </tr>\n",
       "    <tr>\n",
       "      <th>2015-02-18 01:52:00</th>\n",
       "      <td>20.790000</td>\n",
       "      <td>27.260000</td>\n",
       "      <td>0.000000</td>\n",
       "      <td>1978.666667</td>\n",
       "      <td>0.004137</td>\n",
       "      <td>0</td>\n",
       "    </tr>\n",
       "    <tr>\n",
       "      <th>2015-02-18 09:10:00</th>\n",
       "      <td>20.790000</td>\n",
       "      <td>26.745000</td>\n",
       "      <td>50.750000</td>\n",
       "      <td>1463.750000</td>\n",
       "      <td>0.004058</td>\n",
       "      <td>0</td>\n",
       "    </tr>\n",
       "  </tbody>\n",
       "</table>\n",
       "</div>"
      ],
      "text/plain": [
       "                     Temperature   Humidity        Light          CO2  \\\n",
       "date                                                                    \n",
       "2015-02-03 13:10:00    23.260000  25.856667   338.333333   997.333333   \n",
       "2015-02-07 09:41:00    20.700000  18.890000   611.500000   452.250000   \n",
       "2015-02-07 09:42:00    20.700000  18.890000  1546.333333   455.333333   \n",
       "2015-02-07 09:43:00    20.745000  18.890000  1451.750000   453.000000   \n",
       "2015-02-07 09:44:00    20.760000  18.856667   829.000000   452.666667   \n",
       "2015-02-09 13:34:00    21.166667  32.790000   167.000000  1117.333333   \n",
       "2015-02-12 08:22:00    20.600000  21.926667    24.000000  1051.333333   \n",
       "2015-02-12 11:19:00    24.100000  22.472500   277.750000   969.500000   \n",
       "2015-02-12 12:41:00    24.200000  22.700000   336.333333   726.333333   \n",
       "2015-02-12 12:42:00    24.200000  23.022500   497.000000   722.000000   \n",
       "2015-02-12 13:25:00    24.200000  23.700000   630.000000   734.000000   \n",
       "2015-02-12 13:26:00    24.200000  23.745000   690.500000   729.000000   \n",
       "2015-02-13 13:37:00    23.790000  25.575000   262.666667   545.333333   \n",
       "2015-02-14 10:53:00    20.390000  36.000000   345.000000   517.000000   \n",
       "2015-02-14 10:54:00    20.500000  36.000000   362.500000   518.000000   \n",
       "2015-02-14 11:58:00    20.823333  34.790000   305.000000   504.333333   \n",
       "2015-02-14 13:05:00    20.700000  34.845000   287.000000   498.500000   \n",
       "2015-02-17 08:38:00    20.600000  30.500000   101.333333   787.666667   \n",
       "2015-02-17 13:26:00    21.675000  33.067500   101.000000  1117.500000   \n",
       "2015-02-17 13:27:00    21.633333  33.163333   332.666667  1129.333333   \n",
       "2015-02-17 18:06:00    22.166667  34.260000   279.333333  1595.666667   \n",
       "2015-02-17 22:56:00    20.790000  30.926667     0.000000  2072.000000   \n",
       "2015-02-18 00:41:00    20.890000  28.700000     0.000000  1879.500000   \n",
       "2015-02-18 01:49:00    20.790000  27.390000     0.000000  2065.750000   \n",
       "2015-02-18 01:51:00    20.790000  27.245000     0.000000  2076.500000   \n",
       "2015-02-18 01:52:00    20.790000  27.260000     0.000000  1978.666667   \n",
       "2015-02-18 09:10:00    20.790000  26.745000    50.750000  1463.750000   \n",
       "\n",
       "                     HumidityRatio  Occupancy  \n",
       "date                                           \n",
       "2015-02-03 13:10:00       0.004565          0  \n",
       "2015-02-07 09:41:00       0.002845          0  \n",
       "2015-02-07 09:42:00       0.002845          0  \n",
       "2015-02-07 09:43:00       0.002853          0  \n",
       "2015-02-07 09:44:00       0.002850          0  \n",
       "2015-02-09 13:34:00       0.005100          0  \n",
       "2015-02-12 08:22:00       0.003284          0  \n",
       "2015-02-12 11:19:00       0.004170          0  \n",
       "2015-02-12 12:41:00       0.004238          0  \n",
       "2015-02-12 12:42:00       0.004299          0  \n",
       "2015-02-12 13:25:00       0.004426          0  \n",
       "2015-02-12 13:26:00       0.004435          0  \n",
       "2015-02-13 13:37:00       0.004662          0  \n",
       "2015-02-14 10:53:00       0.005340          0  \n",
       "2015-02-14 10:54:00       0.005377          0  \n",
       "2015-02-14 11:58:00       0.005300          0  \n",
       "2015-02-14 13:05:00       0.005268          0  \n",
       "2015-02-17 08:38:00       0.004578          0  \n",
       "2015-02-17 13:26:00       0.005308          0  \n",
       "2015-02-17 13:27:00       0.005310          0  \n",
       "2015-02-17 18:06:00       0.005670          0  \n",
       "2015-02-17 22:56:00       0.004697          0  \n",
       "2015-02-18 00:41:00       0.004384          0  \n",
       "2015-02-18 01:49:00       0.004156          0  \n",
       "2015-02-18 01:51:00       0.004134          0  \n",
       "2015-02-18 01:52:00       0.004137          0  \n",
       "2015-02-18 09:10:00       0.004058          0  "
      ]
     },
     "execution_count": 53,
     "metadata": {},
     "output_type": "execute_result"
    }
   ],
   "source": [
    "df.loc[dbscan.labels_ == -1].loc[df['Occupancy'] == 0]"
   ]
  },
  {
   "cell_type": "markdown",
   "metadata": {},
   "source": [
    "## LOF"
   ]
  },
  {
   "cell_type": "code",
   "execution_count": 15,
   "metadata": {},
   "outputs": [],
   "source": [
    "from sklearn.neighbors import LocalOutlierFactor"
   ]
  },
  {
   "cell_type": "code",
   "execution_count": 24,
   "metadata": {},
   "outputs": [],
   "source": [
    "clf = LocalOutlierFactor(n_neighbors=2)\n",
    "outliers = clf.fit_predict(X)"
   ]
  },
  {
   "cell_type": "code",
   "execution_count": 25,
   "metadata": {},
   "outputs": [
    {
     "data": {
      "text/plain": [
       "array([-2.17616372, -1.2482218 , -1.46304971, ..., -1.17312943,\n",
       "       -0.92972069, -2.44041836])"
      ]
     },
     "execution_count": 25,
     "metadata": {},
     "output_type": "execute_result"
    }
   ],
   "source": [
    "clf.negative_outlier_factor_"
   ]
  },
  {
   "cell_type": "code",
   "execution_count": 26,
   "metadata": {},
   "outputs": [
    {
     "data": {
      "text/plain": [
       "(array([-1,  1]), array([ 3883, 16677], dtype=int64))"
      ]
     },
     "execution_count": 26,
     "metadata": {},
     "output_type": "execute_result"
    }
   ],
   "source": [
    "np.unique(outliers, return_counts=True)"
   ]
  },
  {
   "cell_type": "code",
   "execution_count": 27,
   "metadata": {},
   "outputs": [
    {
     "data": {
      "text/plain": [
       "(array([    0,     6,     7, ..., 20553, 20555, 20559], dtype=int64),)"
      ]
     },
     "execution_count": 27,
     "metadata": {},
     "output_type": "execute_result"
    }
   ],
   "source": [
    "np.where(outliers==-1)"
   ]
  },
  {
   "cell_type": "code",
   "execution_count": 28,
   "metadata": {},
   "outputs": [
    {
     "data": {
      "text/plain": [
       "array([-2.17616372, -1.74258633, -2.0174114 , ..., -2.42247356,\n",
       "       -1.73248465, -2.44041836])"
      ]
     },
     "execution_count": 28,
     "metadata": {},
     "output_type": "execute_result"
    }
   ],
   "source": [
    "clf.negative_outlier_factor_[np.where(outliers==-1)]"
   ]
  },
  {
   "cell_type": "code",
   "execution_count": 29,
   "metadata": {},
   "outputs": [
    {
     "data": {
      "text/plain": [
       "-1.5000000236592839"
      ]
     },
     "execution_count": 29,
     "metadata": {},
     "output_type": "execute_result"
    }
   ],
   "source": [
    "np.max(clf.negative_outlier_factor_[np.where(outliers==-1)])"
   ]
  },
  {
   "cell_type": "code",
   "execution_count": 31,
   "metadata": {},
   "outputs": [
    {
     "data": {
      "image/png": "[encoded data removed]",
      "text/plain": [
       "<Figure size 432x288 with 1 Axes>"
      ]
     },
     "metadata": {
      "needs_background": "light"
     },
     "output_type": "display_data"
    }
   ],
   "source": [
    "np.random.seed(42)\n",
    "\n",
    "# Generate train data\n",
    "X_inliers = 0.3 * np.random.randn(100, 2)\n",
    "X_inliers = np.r_[X_inliers + 2, X_inliers - 2]\n",
    "\n",
    "# Generate some outliers\n",
    "X_outliers = np.random.uniform(low=-4, high=4, size=(20, 2))\n",
    "Xa = np.r_[X_inliers, X_outliers]\n",
    "\n",
    "n_outliers = len(X_outliers)\n",
    "ground_truth = np.ones(len(Xa), dtype=int)\n",
    "ground_truth[-n_outliers:] = -1\n",
    "\n",
    "# fit the model for outlier detection (default)\n",
    "clf = LocalOutlierFactor(n_neighbors=20, contamination=0.1)\n",
    "# use fit_predict to compute the predicted labels of the training samples\n",
    "# (when LOF is used for outlier detection, the estimator has no predict,\n",
    "# decision_function and score_samples methods).\n",
    "y_pred = clf.fit_predict(Xa)\n",
    "n_errors = (y_pred != ground_truth).sum()\n",
    "X_scores = clf.negative_outlier_factor_\n",
    "\n",
    "plt.title(\"Local Outlier Factor (LOF)\")\n",
    "plt.scatter(X[:, 0], X[:, 1], color='k', s=3., label='Data points')\n",
    "# plot circles with radius proportional to the outlier scores\n",
    "radius = (X_scores.max() - X_scores) / (X_scores.max() - X_scores.min())\n",
    "plt.scatter(Xa[:, 0], Xa[:, 1], s=1000 * radius, edgecolors='r',\n",
    "            facecolors='none', label='Outlier scores')\n",
    "plt.axis('tight')\n",
    "plt.xlim((-5, 5))\n",
    "plt.ylim((-5, 5))\n",
    "plt.xlabel(\"prediction errors: %d\" % (n_errors))\n",
    "legend = plt.legend(loc='upper left')\n",
    "legend.legendHandles[0]._sizes = [10]\n",
    "legend.legendHandles[1]._sizes = [20]\n",
    "plt.show()"
   ]
  },
  {
   "cell_type": "markdown",
   "metadata": {},
   "source": [
    "## X-Means"
   ]
  },
  {
   "cell_type": "code",
   "execution_count": 35,
   "metadata": {},
   "outputs": [],
   "source": [
    "from pyclustering.cluster import xmeans"
   ]
  },
  {
   "cell_type": "code",
   "execution_count": 36,
   "metadata": {},
   "outputs": [
    {
     "data": {
      "text/plain": [
       "<pyclustering.cluster.xmeans.xmeans at 0x220b0d4f308>"
      ]
     },
     "execution_count": 36,
     "metadata": {},
     "output_type": "execute_result"
    }
   ],
   "source": [
    "xm = xmeans.xmeans(X)\n",
    "xm.process()"
   ]
  },
  {
   "cell_type": "code",
   "execution_count": 37,
   "metadata": {},
   "outputs": [],
   "source": [
    "clusters = xm.get_clusters()"
   ]
  },
  {
   "cell_type": "code",
   "execution_count": 38,
   "metadata": {},
   "outputs": [],
   "source": [
    "centers = xm.get_centers()"
   ]
  },
  {
   "cell_type": "code",
   "execution_count": 39,
   "metadata": {},
   "outputs": [],
   "source": [
    "i = df.columns.values.tolist().index('CO2')\n",
    "j = df.columns.values.tolist().index('Light')"
   ]
  },
  {
   "cell_type": "code",
   "execution_count": 40,
   "metadata": {},
   "outputs": [
    {
     "data": {
      "image/png": "[encoded data removed]",
      "text/plain": [
       "<Figure size 432x288 with 1 Axes>"
      ]
     },
     "metadata": {
      "needs_background": "light"
     },
     "output_type": "display_data"
    }
   ],
   "source": [
    "for indexes in clusters:\n",
    "    plt.scatter(df.values[indexes,i], df.values[indexes,j], alpha=0.4)\n",
    "for c in centers:\n",
    "    plt.scatter(c[i], c[j], s=100, edgecolors='k')"
   ]
  }
 ],
 "metadata": {
  "kernelspec": {
   "display_name": "Python 3",
   "language": "python",
   "name": "python3"
  },
  "language_info": {
   "codemirror_mode": {
    "name": "ipython",
    "version": 3
   },
   "file_extension": ".py",
   "mimetype": "text/x-python",
   "name": "python",
   "nbconvert_exporter": "python",
   "pygments_lexer": "ipython3",
   "version": "3.7.6"
  }
 },
 "nbformat": 4,
 "nbformat_minor": 2
}
