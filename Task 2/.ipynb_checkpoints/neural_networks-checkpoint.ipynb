{
 "cells": [
  {
   "cell_type": "markdown",
   "metadata": {},
   "source": [
    "**Python version:**  3.x"
   ]
  },
  {
   "cell_type": "code",
   "execution_count": 2,
   "metadata": {},
   "outputs": [],
   "source": [
    "# set the path of the directories where your modules and files are\n",
    "modulesPath = 'C:\\\\Users\\loren\\Documents\\Progetti\\__repo__\\_myModules'\n",
    "filesPath = 'C:\\\\Users\\loren\\Documents\\Progetti\\Scuola\\AdvDataMining\\_files'"
   ]
  },
  {
   "cell_type": "markdown",
   "metadata": {},
   "source": [
    "#### Moduli"
   ]
  },
  {
   "cell_type": "code",
   "execution_count": 4,
   "metadata": {
    "scrolled": true
   },
   "outputs": [
    {
     "name": "stdout",
     "output_type": "stream",
     "text": [
      "Available Modules for the project:\n",
      "['data_preparation.py', 'data_understanding.py', 'df_handle.py', 'modeling.py', 'model_evaluation.py', '__pycache__']\n",
      "\n",
      "Available Files for the project:\n",
      "['datatest.txt', 'datatest2.txt', 'datatraining.txt']\n"
     ]
    }
   ],
   "source": [
    "import os\n",
    "import sys\n",
    "\n",
    "if os.path.isdir(modulesPath) and modulesPath not in sys.path:\n",
    "    sys.path.append(modulesPath)\n",
    "\n",
    "modulesList = os.listdir(modulesPath)\n",
    "print('Available Modules for the project:', modulesList,sep='\\n', end='\\n\\n')\n",
    "\n",
    "filesList = os.listdir(filesPath)\n",
    "print('Available Files for the project:', filesList,sep='\\n')\n",
    "\n",
    "%matplotlib inline\n",
    "\n",
    "import df_handle\n",
    "import data_understanding\n",
    "import data_preparation\n",
    "import modeling\n",
    "import model_evaluation"
   ]
  },
  {
   "cell_type": "code",
   "execution_count": 5,
   "metadata": {
    "scrolled": true
   },
   "outputs": [],
   "source": [
    "X_train, X_test, y_train, y_test = df_handle.ml_setup(trainFile_name='datatraining.txt', y_name='Occupancy',\n",
    "                                                      testFile_name='datatest.txt', search_in_folder=filesPath)\n",
    "del X_train['date'], X_test['date']"
   ]
  },
  {
   "cell_type": "markdown",
   "metadata": {},
   "source": [
    "## Sklearn"
   ]
  },
  {
   "cell_type": "code",
   "execution_count": 6,
   "metadata": {
    "scrolled": true
   },
   "outputs": [
    {
     "data": {
      "text/plain": [
       "MLPClassifier(activation='tanh', alpha=0.001, batch_size='auto', beta_1=0.9,\n",
       "              beta_2=0.999, early_stopping=False, epsilon=1e-08,\n",
       "              hidden_layer_sizes=(100, 50, 25), learning_rate='adaptive',\n",
       "              learning_rate_init=0.001, max_fun=15000, max_iter=1000,\n",
       "              momentum=0.9, n_iter_no_change=10, nesterovs_momentum=True,\n",
       "              power_t=0.5, random_state=0, shuffle=True, solver='adam',\n",
       "              tol=0.0001, validation_fraction=0.1, verbose=False,\n",
       "              warm_start=False)"
      ]
     },
     "execution_count": 6,
     "metadata": {},
     "output_type": "execute_result"
    }
   ],
   "source": [
    "clf = modeling.MLPClassifier(hidden_layer_sizes=(100,50,25), solver='adam', alpha=0.001, learning_rate='adaptive',\n",
    "                             activation='tanh', early_stopping=False, momentum=0.9, random_state=0, max_iter=1000)\n",
    "clf.fit(X_train,y_train)"
   ]
  },
  {
   "cell_type": "code",
   "execution_count": 7,
   "metadata": {
    "scrolled": true
   },
   "outputs": [
    {
     "name": "stdout",
     "output_type": "stream",
     "text": [
      "Accuracy: 0.9771106941838649\n",
      "\n",
      "F1-score: [0.98170915 0.96942356]\n",
      "\n",
      "Weighted Average F1-score: 0.977228248576554\n",
      "\n",
      "              precision    recall  f1-score   support\n",
      "\n",
      "           0       1.00      0.97      0.98      1693\n",
      "           1       0.95      0.99      0.97       972\n",
      "\n",
      "    accuracy                           0.98      2665\n",
      "   macro avg       0.97      0.98      0.98      2665\n",
      "weighted avg       0.98      0.98      0.98      2665\n",
      "\n",
      "\n"
     ]
    },
    {
     "data": {
      "image/png": "[encoded data removed]",
      "text/plain": [
       "<Figure size 432x288 with 1 Axes>"
      ]
     },
     "metadata": {
      "needs_background": "light"
     },
     "output_type": "display_data"
    }
   ],
   "source": [
    "model_evaluation.test_clf(clf=clf, X_test=X_test, y_test=y_test)"
   ]
  },
  {
   "cell_type": "markdown",
   "metadata": {},
   "source": [
    "## Keras"
   ]
  },
  {
   "cell_type": "code",
   "execution_count": 9,
   "metadata": {},
   "outputs": [],
   "source": [
    "import tensorflow as tf\n",
    "from keras.models import Sequential\n",
    "from keras.layers import Dense"
   ]
  },
  {
   "cell_type": "code",
   "execution_count": 10,
   "metadata": {},
   "outputs": [],
   "source": [
    "def build_model():\n",
    "    \n",
    "    n_feature = X_train.shape[1]\n",
    "    model = Sequential()\n",
    "    model.add(Dense(128, input_dim=n_feature, activation='relu'))\n",
    "    model.add(Dense(64, activation='relu'))\n",
    "    model.add(Dense(1, activation='sigmoid'))\n",
    "\n",
    "    model.compile(loss='binary_crossentropy', optimizer='adam', metrics=['accuracy'])\n",
    "    return model"
   ]
  },
  {
   "cell_type": "code",
   "execution_count": 19,
   "metadata": {
    "scrolled": true
   },
   "outputs": [
    {
     "name": "stdout",
     "output_type": "stream",
     "text": [
      "Epoch 1/50\n",
      "8143/8143 [==============================] - 1s 139us/step - loss: 1.1934 - accuracy: 0.9192\n",
      "Epoch 2/50\n",
      "8143/8143 [==============================] - 1s 105us/step - loss: 1.2043 - accuracy: 0.9221\n",
      "Epoch 3/50\n",
      "8143/8143 [==============================] - 1s 104us/step - loss: 1.1455 - accuracy: 0.9269\n",
      "Epoch 4/50\n",
      "8143/8143 [==============================] - 1s 107us/step - loss: 0.9233 - accuracy: 0.9404\n",
      "Epoch 5/50\n",
      "8143/8143 [==============================] - 1s 105us/step - loss: 0.7877 - accuracy: 0.9492\n",
      "Epoch 6/50\n",
      "8143/8143 [==============================] - 1s 104us/step - loss: 0.8276 - accuracy: 0.9440\n",
      "Epoch 7/50\n",
      "8143/8143 [==============================] - 1s 109us/step - loss: 0.3351 - accuracy: 0.9747\n",
      "Epoch 8/50\n",
      "8143/8143 [==============================] - 1s 103us/step - loss: 0.1991 - accuracy: 0.9817\n",
      "Epoch 9/50\n",
      "8143/8143 [==============================] - 1s 108us/step - loss: 0.1763 - accuracy: 0.9823\n",
      "Epoch 10/50\n",
      "8143/8143 [==============================] - 1s 106us/step - loss: 0.1365 - accuracy: 0.9781\n",
      "Epoch 11/50\n",
      "8143/8143 [==============================] - 1s 104us/step - loss: 0.0677 - accuracy: 0.9824\n",
      "Epoch 12/50\n",
      "8143/8143 [==============================] - 1s 106us/step - loss: 0.0616 - accuracy: 0.9832\n",
      "Epoch 13/50\n",
      "8143/8143 [==============================] - 1s 111us/step - loss: 0.0575 - accuracy: 0.9846\n",
      "Epoch 14/50\n",
      "8143/8143 [==============================] - 1s 115us/step - loss: 0.0579 - accuracy: 0.9855\n",
      "Epoch 15/50\n",
      "8143/8143 [==============================] - 1s 105us/step - loss: 0.0554 - accuracy: 0.9856\n",
      "Epoch 16/50\n",
      "8143/8143 [==============================] - 1s 106us/step - loss: 0.0554 - accuracy: 0.9861\n",
      "Epoch 17/50\n",
      "8143/8143 [==============================] - 1s 109us/step - loss: 0.0487 - accuracy: 0.9880\n",
      "Epoch 18/50\n",
      "8143/8143 [==============================] - 1s 104us/step - loss: 0.0499 - accuracy: 0.9881\n",
      "Epoch 19/50\n",
      "8143/8143 [==============================] - 1s 109us/step - loss: 0.0478 - accuracy: 0.9870\n",
      "Epoch 20/50\n",
      "8143/8143 [==============================] - 1s 108us/step - loss: 0.0547 - accuracy: 0.9835\n",
      "Epoch 21/50\n",
      "8143/8143 [==============================] - 1s 104us/step - loss: 0.0586 - accuracy: 0.9816\n",
      "Epoch 22/50\n",
      "8143/8143 [==============================] - 1s 127us/step - loss: 0.0505 - accuracy: 0.9861\n",
      "Epoch 23/50\n",
      "8143/8143 [==============================] - 1s 107us/step - loss: 0.0499 - accuracy: 0.9862\n",
      "Epoch 24/50\n",
      "8143/8143 [==============================] - 1s 104us/step - loss: 0.0554 - accuracy: 0.9855\n",
      "Epoch 25/50\n",
      "8143/8143 [==============================] - 1s 107us/step - loss: 0.0466 - accuracy: 0.9878\n",
      "Epoch 26/50\n",
      "8143/8143 [==============================] - 1s 123us/step - loss: 0.0504 - accuracy: 0.9871\n",
      "Epoch 27/50\n",
      "8143/8143 [==============================] - 1s 140us/step - loss: 0.0436 - accuracy: 0.9886\n",
      "Epoch 28/50\n",
      "8143/8143 [==============================] - 1s 119us/step - loss: 0.0451 - accuracy: 0.9880\n",
      "Epoch 29/50\n",
      "8143/8143 [==============================] - 1s 124us/step - loss: 0.0507 - accuracy: 0.9861\n",
      "Epoch 30/50\n",
      "8143/8143 [==============================] - 1s 119us/step - loss: 0.0456 - accuracy: 0.9886\n",
      "Epoch 31/50\n",
      "8143/8143 [==============================] - 1s 106us/step - loss: 0.0465 - accuracy: 0.9867\n",
      "Epoch 32/50\n",
      "8143/8143 [==============================] - 1s 121us/step - loss: 0.0512 - accuracy: 0.9866\n",
      "Epoch 33/50\n",
      "8143/8143 [==============================] - 1s 106us/step - loss: 0.0467 - accuracy: 0.9878\n",
      "Epoch 34/50\n",
      "8143/8143 [==============================] - 1s 107us/step - loss: 0.0448 - accuracy: 0.9886\n",
      "Epoch 35/50\n",
      "8143/8143 [==============================] - 1s 111us/step - loss: 0.0447 - accuracy: 0.9878\n",
      "Epoch 36/50\n",
      "8143/8143 [==============================] - 1s 108us/step - loss: 0.0445 - accuracy: 0.9886\n",
      "Epoch 37/50\n",
      "8143/8143 [==============================] - 1s 105us/step - loss: 0.0442 - accuracy: 0.9885\n",
      "Epoch 38/50\n",
      "8143/8143 [==============================] - 1s 114us/step - loss: 0.0427 - accuracy: 0.9885\n",
      "Epoch 39/50\n",
      "8143/8143 [==============================] - 1s 116us/step - loss: 0.0470 - accuracy: 0.9871\n",
      "Epoch 40/50\n",
      "8143/8143 [==============================] - 1s 114us/step - loss: 0.0452 - accuracy: 0.9876\n",
      "Epoch 41/50\n",
      "8143/8143 [==============================] - 1s 108us/step - loss: 0.0461 - accuracy: 0.9878\n",
      "Epoch 42/50\n",
      "8143/8143 [==============================] - 1s 104us/step - loss: 0.0445 - accuracy: 0.9885\n",
      "Epoch 43/50\n",
      "8143/8143 [==============================] - 1s 109us/step - loss: 0.0465 - accuracy: 0.9880\n",
      "Epoch 44/50\n",
      "8143/8143 [==============================] - 1s 106us/step - loss: 0.0451 - accuracy: 0.9886\n",
      "Epoch 45/50\n",
      "8143/8143 [==============================] - 1s 118us/step - loss: 0.0446 - accuracy: 0.9887\n",
      "Epoch 46/50\n",
      "8143/8143 [==============================] - 1s 110us/step - loss: 0.0448 - accuracy: 0.9877\n",
      "Epoch 47/50\n",
      "8143/8143 [==============================] - 1s 106us/step - loss: 0.0420 - accuracy: 0.9887\n",
      "Epoch 48/50\n",
      "8143/8143 [==============================] - 1s 106us/step - loss: 0.0440 - accuracy: 0.9883\n",
      "Epoch 49/50\n",
      "8143/8143 [==============================] - 1s 106us/step - loss: 0.0454 - accuracy: 0.9874\n",
      "Epoch 50/50\n",
      "8143/8143 [==============================] - 1s 104us/step - loss: 0.0431 - accuracy: 0.9888\n"
     ]
    }
   ],
   "source": [
    "model1 = build_model()\n",
    "\n",
    "history1 = model1.fit(X_train, y_train, epochs=50, batch_size=10).history"
   ]
  },
  {
   "cell_type": "code",
   "execution_count": 16,
   "metadata": {
    "scrolled": true
   },
   "outputs": [
    {
     "name": "stdout",
     "output_type": "stream",
     "text": [
      "Epoch 1/50\n",
      "8143/8143 [==============================] - 0s 53us/step - loss: 3.4223 - accuracy: 0.7877\n",
      "Epoch 2/50\n",
      "8143/8143 [==============================] - 0s 25us/step - loss: 3.4223 - accuracy: 0.7877\n",
      "Epoch 3/50\n",
      "8143/8143 [==============================] - 0s 24us/step - loss: 3.4223 - accuracy: 0.7877\n",
      "Epoch 4/50\n",
      "8143/8143 [==============================] - 0s 27us/step - loss: 3.4223 - accuracy: 0.7877\n",
      "Epoch 5/50\n",
      "8143/8143 [==============================] - 0s 23us/step - loss: 3.4223 - accuracy: 0.7877\n",
      "Epoch 6/50\n",
      "8143/8143 [==============================] - 0s 23us/step - loss: 3.4223 - accuracy: 0.7877\n",
      "Epoch 7/50\n",
      "8143/8143 [==============================] - 0s 24us/step - loss: 3.4223 - accuracy: 0.7877\n",
      "Epoch 8/50\n",
      "8143/8143 [==============================] - 0s 24us/step - loss: 3.4223 - accuracy: 0.7877\n",
      "Epoch 9/50\n",
      "8143/8143 [==============================] - 0s 24us/step - loss: 3.4223 - accuracy: 0.7877\n",
      "Epoch 10/50\n",
      "8143/8143 [==============================] - 0s 24us/step - loss: 3.4223 - accuracy: 0.7877\n",
      "Epoch 11/50\n",
      "8143/8143 [==============================] - 0s 25us/step - loss: 3.4223 - accuracy: 0.7877\n",
      "Epoch 12/50\n",
      "8143/8143 [==============================] - 0s 23us/step - loss: 3.4223 - accuracy: 0.7877\n",
      "Epoch 13/50\n",
      "8143/8143 [==============================] - 0s 24us/step - loss: 3.4223 - accuracy: 0.7877\n",
      "Epoch 14/50\n",
      "8143/8143 [==============================] - 0s 25us/step - loss: 3.4223 - accuracy: 0.7877\n",
      "Epoch 15/50\n",
      "8143/8143 [==============================] - 0s 25us/step - loss: 3.4223 - accuracy: 0.7877\n",
      "Epoch 16/50\n",
      "8143/8143 [==============================] - 0s 23us/step - loss: 3.4223 - accuracy: 0.7877\n",
      "Epoch 17/50\n",
      "8143/8143 [==============================] - 0s 25us/step - loss: 3.4223 - accuracy: 0.7877\n",
      "Epoch 18/50\n",
      "8143/8143 [==============================] - 0s 25us/step - loss: 3.4223 - accuracy: 0.7877\n",
      "Epoch 19/50\n",
      "8143/8143 [==============================] - 0s 24us/step - loss: 3.4223 - accuracy: 0.7877\n",
      "Epoch 20/50\n",
      "8143/8143 [==============================] - 0s 25us/step - loss: 3.4223 - accuracy: 0.7877\n",
      "Epoch 21/50\n",
      "8143/8143 [==============================] - 0s 25us/step - loss: 3.4223 - accuracy: 0.7877\n",
      "Epoch 22/50\n",
      "8143/8143 [==============================] - 0s 24us/step - loss: 3.4223 - accuracy: 0.7877\n",
      "Epoch 23/50\n",
      "8143/8143 [==============================] - 0s 24us/step - loss: 3.4223 - accuracy: 0.7877\n",
      "Epoch 24/50\n",
      "8143/8143 [==============================] - 0s 26us/step - loss: 3.4223 - accuracy: 0.7877\n",
      "Epoch 25/50\n",
      "8143/8143 [==============================] - 0s 24us/step - loss: 3.4223 - accuracy: 0.7877\n",
      "Epoch 26/50\n",
      "8143/8143 [==============================] - 0s 24us/step - loss: 3.4223 - accuracy: 0.7877\n",
      "Epoch 27/50\n",
      "8143/8143 [==============================] - 0s 26us/step - loss: 3.4223 - accuracy: 0.7877\n",
      "Epoch 28/50\n",
      "8143/8143 [==============================] - 0s 23us/step - loss: 3.4223 - accuracy: 0.7877\n",
      "Epoch 29/50\n",
      "8143/8143 [==============================] - 0s 24us/step - loss: 3.4223 - accuracy: 0.7877\n",
      "Epoch 30/50\n",
      "8143/8143 [==============================] - 0s 24us/step - loss: 3.4223 - accuracy: 0.7877\n",
      "Epoch 31/50\n",
      "8143/8143 [==============================] - 0s 26us/step - loss: 3.4223 - accuracy: 0.7877\n",
      "Epoch 32/50\n",
      "8143/8143 [==============================] - 0s 26us/step - loss: 3.4223 - accuracy: 0.7877\n",
      "Epoch 33/50\n",
      "8143/8143 [==============================] - 0s 24us/step - loss: 3.4223 - accuracy: 0.7877\n",
      "Epoch 34/50\n",
      "8143/8143 [==============================] - 0s 23us/step - loss: 3.4223 - accuracy: 0.7877\n",
      "Epoch 35/50\n",
      "8143/8143 [==============================] - 0s 24us/step - loss: 3.4223 - accuracy: 0.7877\n",
      "Epoch 36/50\n",
      "8143/8143 [==============================] - 0s 24us/step - loss: 3.4223 - accuracy: 0.7877\n",
      "Epoch 37/50\n",
      "8143/8143 [==============================] - 0s 25us/step - loss: 3.4223 - accuracy: 0.7877\n",
      "Epoch 38/50\n",
      "8143/8143 [==============================] - 0s 24us/step - loss: 3.4223 - accuracy: 0.7877\n",
      "Epoch 39/50\n",
      "8143/8143 [==============================] - 0s 24us/step - loss: 3.4223 - accuracy: 0.7877\n",
      "Epoch 40/50\n",
      "8143/8143 [==============================] - 0s 24us/step - loss: 3.4223 - accuracy: 0.7877\n",
      "Epoch 41/50\n",
      "8143/8143 [==============================] - 0s 24us/step - loss: 3.4223 - accuracy: 0.7877\n",
      "Epoch 42/50\n",
      "8143/8143 [==============================] - 0s 24us/step - loss: 3.4223 - accuracy: 0.7877\n",
      "Epoch 43/50\n",
      "8143/8143 [==============================] - 0s 25us/step - loss: 3.4223 - accuracy: 0.7877\n",
      "Epoch 44/50\n",
      "8143/8143 [==============================] - 0s 26us/step - loss: 3.4223 - accuracy: 0.7877\n",
      "Epoch 45/50\n",
      "8143/8143 [==============================] - 0s 25us/step - loss: 3.4223 - accuracy: 0.7877\n",
      "Epoch 46/50\n",
      "8143/8143 [==============================] - 0s 24us/step - loss: 3.4223 - accuracy: 0.7877\n",
      "Epoch 47/50\n",
      "8143/8143 [==============================] - 0s 25us/step - loss: 3.4223 - accuracy: 0.7877\n",
      "Epoch 48/50\n",
      "8143/8143 [==============================] - 0s 24us/step - loss: 3.4223 - accuracy: 0.7877\n",
      "Epoch 49/50\n",
      "8143/8143 [==============================] - 0s 24us/step - loss: 3.4223 - accuracy: 0.7877\n",
      "Epoch 50/50\n",
      "8143/8143 [==============================] - 0s 24us/step - loss: 3.4223 - accuracy: 0.7877\n"
     ]
    }
   ],
   "source": [
    "model2 = build_model()\n",
    "\n",
    "history2 = model2.fit(X_train, y_train, epochs=50, batch_size=50).history"
   ]
  },
  {
   "cell_type": "code",
   "execution_count": 17,
   "metadata": {},
   "outputs": [
    {
     "data": {
      "image/png": "[encoded data removed]",
      "text/plain": [
       "<Figure size 432x288 with 1 Axes>"
      ]
     },
     "metadata": {
      "needs_background": "light"
     },
     "output_type": "display_data"
    }
   ],
   "source": [
    "data_understanding.plt.plot(history1['loss'], label='Loss 10')\n",
    "data_understanding.plt.plot(history2['loss'], label='Loss 50')\n",
    "data_understanding.plt.xlabel('Epochs')\n",
    "data_understanding.plt.ylabel('Cross-Entropy')\n",
    "data_understanding.plt.legend()\n",
    "data_understanding.plt.show()"
   ]
  },
  {
   "cell_type": "code",
   "execution_count": 18,
   "metadata": {},
   "outputs": [
    {
     "name": "stdout",
     "output_type": "stream",
     "text": [
      "2665/2665 [==============================] - 0s 16us/step\n",
      "2665/2665 [==============================] - 0s 36us/step\n",
      "Loss 0.105685, Accuracy 0.974859\n",
      "Loss 5.878720, Accuracy 0.635272\n"
     ]
    }
   ],
   "source": [
    "test_loss_1, test_acc_1 = model1.evaluate(X_test, y_test)\n",
    "test_loss_2, test_acc_2 = model2.evaluate(X_test, y_test)\n",
    "\n",
    "print('Loss %f, Accuracy %f' % (test_loss_1, test_acc_1))\n",
    "print('Loss %f, Accuracy %f' % (test_loss_2, test_acc_2))"
   ]
  }
 ],
 "metadata": {
  "kernelspec": {
   "display_name": "Python 3",
   "language": "python",
   "name": "python3"
  },
  "language_info": {
   "codemirror_mode": {
    "name": "ipython",
    "version": 3
   },
   "file_extension": ".py",
   "mimetype": "text/x-python",
   "name": "python",
   "nbconvert_exporter": "python",
   "pygments_lexer": "ipython3",
   "version": "3.7.6"
  }
 },
 "nbformat": 4,
 "nbformat_minor": 2
}
