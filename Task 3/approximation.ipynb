{
 "cells": [
  {
   "cell_type": "markdown",
   "metadata": {},
   "source": [
    "**Python version:**  3.x"
   ]
  },
  {
   "cell_type": "code",
   "execution_count": 1,
   "metadata": {},
   "outputs": [],
   "source": [
    "# set the path of the directories where your modules and files are\n",
    "modules_path = 'C:\\\\Users\\loren\\Documents\\Progetti\\__repo__\\_myModules'\n",
    "files_path = 'C:\\\\Users\\loren\\Documents\\Progetti\\Scuola\\DataMining_Advanced\\_files'"
   ]
  },
  {
   "cell_type": "markdown",
   "metadata": {},
   "source": [
    "#### Moduli"
   ]
  },
  {
   "cell_type": "code",
   "execution_count": 2,
   "metadata": {},
   "outputs": [
    {
     "name": "stdout",
     "output_type": "stream",
     "text": [
      "Available Modules for the project:\n",
      "['data_preparation.py', 'data_understanding.py', 'df_handle.py', 'modeling.py', 'model_evaluation.py', '__pycache__']\n",
      "\n",
      "Available Files for the project:\n",
      "['datatest.txt', 'datatest2.txt', 'datatraining.txt', 'training.csv']\n"
     ]
    }
   ],
   "source": [
    "import os\n",
    "import sys\n",
    "\n",
    "if os.path.isdir(modules_path) and modules_path not in sys.path:\n",
    "    sys.path.append(modules_path)\n",
    "\n",
    "modulesList = os.listdir(modules_path)\n",
    "print('Available Modules for the project:', modulesList,sep='\\n', end='\\n\\n')\n",
    "\n",
    "filesList = os.listdir(files_path)\n",
    "print('Available Files for the project:', filesList,sep='\\n')\n",
    "\n",
    "%matplotlib inline\n",
    "\n",
    "import df_handle\n",
    "import data_understanding\n",
    "import data_preparation\n",
    "import modeling\n",
    "import model_evaluation"
   ]
  },
  {
   "cell_type": "code",
   "execution_count": 18,
   "metadata": {
    "scrolled": true
   },
   "outputs": [
    {
     "data": {
      "text/html": [
       "<div>\n",
       "<style scoped>\n",
       "    .dataframe tbody tr th:only-of-type {\n",
       "        vertical-align: middle;\n",
       "    }\n",
       "\n",
       "    .dataframe tbody tr th {\n",
       "        vertical-align: top;\n",
       "    }\n",
       "\n",
       "    .dataframe thead th {\n",
       "        text-align: right;\n",
       "    }\n",
       "</style>\n",
       "<table border=\"1\" class=\"dataframe\">\n",
       "  <thead>\n",
       "    <tr style=\"text-align: right;\">\n",
       "      <th></th>\n",
       "      <th>Temperature</th>\n",
       "      <th>Humidity</th>\n",
       "      <th>Light</th>\n",
       "      <th>CO2</th>\n",
       "      <th>HumidityRatio</th>\n",
       "      <th>Occupancy</th>\n",
       "      <th>year</th>\n",
       "      <th>month</th>\n",
       "      <th>day</th>\n",
       "      <th>hour</th>\n",
       "      <th>minute</th>\n",
       "      <th>second</th>\n",
       "    </tr>\n",
       "    <tr>\n",
       "      <th>date</th>\n",
       "      <th></th>\n",
       "      <th></th>\n",
       "      <th></th>\n",
       "      <th></th>\n",
       "      <th></th>\n",
       "      <th></th>\n",
       "      <th></th>\n",
       "      <th></th>\n",
       "      <th></th>\n",
       "      <th></th>\n",
       "      <th></th>\n",
       "      <th></th>\n",
       "    </tr>\n",
       "  </thead>\n",
       "  <tbody>\n",
       "    <tr>\n",
       "      <th>2015-02-04 17:51:00</th>\n",
       "      <td>23.18</td>\n",
       "      <td>27.2720</td>\n",
       "      <td>426.0</td>\n",
       "      <td>721.250000</td>\n",
       "      <td>0.004793</td>\n",
       "      <td>1</td>\n",
       "      <td>2015</td>\n",
       "      <td>2</td>\n",
       "      <td>4</td>\n",
       "      <td>17</td>\n",
       "      <td>51</td>\n",
       "      <td>0</td>\n",
       "    </tr>\n",
       "    <tr>\n",
       "      <th>2015-02-04 17:52:00</th>\n",
       "      <td>23.15</td>\n",
       "      <td>27.2675</td>\n",
       "      <td>429.5</td>\n",
       "      <td>714.000000</td>\n",
       "      <td>0.004783</td>\n",
       "      <td>1</td>\n",
       "      <td>2015</td>\n",
       "      <td>2</td>\n",
       "      <td>4</td>\n",
       "      <td>17</td>\n",
       "      <td>52</td>\n",
       "      <td>0</td>\n",
       "    </tr>\n",
       "    <tr>\n",
       "      <th>2015-02-04 17:53:00</th>\n",
       "      <td>23.15</td>\n",
       "      <td>27.2450</td>\n",
       "      <td>426.0</td>\n",
       "      <td>713.500000</td>\n",
       "      <td>0.004779</td>\n",
       "      <td>1</td>\n",
       "      <td>2015</td>\n",
       "      <td>2</td>\n",
       "      <td>4</td>\n",
       "      <td>17</td>\n",
       "      <td>53</td>\n",
       "      <td>0</td>\n",
       "    </tr>\n",
       "    <tr>\n",
       "      <th>2015-02-04 17:54:00</th>\n",
       "      <td>23.15</td>\n",
       "      <td>27.2000</td>\n",
       "      <td>426.0</td>\n",
       "      <td>708.250000</td>\n",
       "      <td>0.004772</td>\n",
       "      <td>1</td>\n",
       "      <td>2015</td>\n",
       "      <td>2</td>\n",
       "      <td>4</td>\n",
       "      <td>17</td>\n",
       "      <td>54</td>\n",
       "      <td>0</td>\n",
       "    </tr>\n",
       "    <tr>\n",
       "      <th>2015-02-04 17:55:00</th>\n",
       "      <td>23.10</td>\n",
       "      <td>27.2000</td>\n",
       "      <td>426.0</td>\n",
       "      <td>704.500000</td>\n",
       "      <td>0.004757</td>\n",
       "      <td>1</td>\n",
       "      <td>2015</td>\n",
       "      <td>2</td>\n",
       "      <td>4</td>\n",
       "      <td>17</td>\n",
       "      <td>55</td>\n",
       "      <td>0</td>\n",
       "    </tr>\n",
       "    <tr>\n",
       "      <th>...</th>\n",
       "      <td>...</td>\n",
       "      <td>...</td>\n",
       "      <td>...</td>\n",
       "      <td>...</td>\n",
       "      <td>...</td>\n",
       "      <td>...</td>\n",
       "      <td>...</td>\n",
       "      <td>...</td>\n",
       "      <td>...</td>\n",
       "      <td>...</td>\n",
       "      <td>...</td>\n",
       "      <td>...</td>\n",
       "    </tr>\n",
       "    <tr>\n",
       "      <th>2015-02-10 09:29:00</th>\n",
       "      <td>21.05</td>\n",
       "      <td>36.0975</td>\n",
       "      <td>433.0</td>\n",
       "      <td>787.250000</td>\n",
       "      <td>0.005579</td>\n",
       "      <td>1</td>\n",
       "      <td>2015</td>\n",
       "      <td>2</td>\n",
       "      <td>10</td>\n",
       "      <td>9</td>\n",
       "      <td>29</td>\n",
       "      <td>0</td>\n",
       "    </tr>\n",
       "    <tr>\n",
       "      <th>2015-02-10 09:30:00</th>\n",
       "      <td>21.05</td>\n",
       "      <td>35.9950</td>\n",
       "      <td>433.0</td>\n",
       "      <td>789.500000</td>\n",
       "      <td>0.005563</td>\n",
       "      <td>1</td>\n",
       "      <td>2015</td>\n",
       "      <td>2</td>\n",
       "      <td>10</td>\n",
       "      <td>9</td>\n",
       "      <td>30</td>\n",
       "      <td>0</td>\n",
       "    </tr>\n",
       "    <tr>\n",
       "      <th>2015-02-10 09:31:00</th>\n",
       "      <td>21.10</td>\n",
       "      <td>36.0950</td>\n",
       "      <td>433.0</td>\n",
       "      <td>798.500000</td>\n",
       "      <td>0.005596</td>\n",
       "      <td>1</td>\n",
       "      <td>2015</td>\n",
       "      <td>2</td>\n",
       "      <td>10</td>\n",
       "      <td>9</td>\n",
       "      <td>31</td>\n",
       "      <td>0</td>\n",
       "    </tr>\n",
       "    <tr>\n",
       "      <th>2015-02-10 09:32:00</th>\n",
       "      <td>21.10</td>\n",
       "      <td>36.2600</td>\n",
       "      <td>433.0</td>\n",
       "      <td>820.333333</td>\n",
       "      <td>0.005621</td>\n",
       "      <td>1</td>\n",
       "      <td>2015</td>\n",
       "      <td>2</td>\n",
       "      <td>10</td>\n",
       "      <td>9</td>\n",
       "      <td>32</td>\n",
       "      <td>0</td>\n",
       "    </tr>\n",
       "    <tr>\n",
       "      <th>2015-02-10 09:33:00</th>\n",
       "      <td>21.10</td>\n",
       "      <td>36.2000</td>\n",
       "      <td>447.0</td>\n",
       "      <td>821.000000</td>\n",
       "      <td>0.005612</td>\n",
       "      <td>1</td>\n",
       "      <td>2015</td>\n",
       "      <td>2</td>\n",
       "      <td>10</td>\n",
       "      <td>9</td>\n",
       "      <td>33</td>\n",
       "      <td>0</td>\n",
       "    </tr>\n",
       "  </tbody>\n",
       "</table>\n",
       "<p>8143 rows × 12 columns</p>\n",
       "</div>"
      ],
      "text/plain": [
       "                     Temperature  Humidity  Light         CO2  HumidityRatio  \\\n",
       "date                                                                           \n",
       "2015-02-04 17:51:00        23.18   27.2720  426.0  721.250000       0.004793   \n",
       "2015-02-04 17:52:00        23.15   27.2675  429.5  714.000000       0.004783   \n",
       "2015-02-04 17:53:00        23.15   27.2450  426.0  713.500000       0.004779   \n",
       "2015-02-04 17:54:00        23.15   27.2000  426.0  708.250000       0.004772   \n",
       "2015-02-04 17:55:00        23.10   27.2000  426.0  704.500000       0.004757   \n",
       "...                          ...       ...    ...         ...            ...   \n",
       "2015-02-10 09:29:00        21.05   36.0975  433.0  787.250000       0.005579   \n",
       "2015-02-10 09:30:00        21.05   35.9950  433.0  789.500000       0.005563   \n",
       "2015-02-10 09:31:00        21.10   36.0950  433.0  798.500000       0.005596   \n",
       "2015-02-10 09:32:00        21.10   36.2600  433.0  820.333333       0.005621   \n",
       "2015-02-10 09:33:00        21.10   36.2000  447.0  821.000000       0.005612   \n",
       "\n",
       "                     Occupancy  year  month  day  hour  minute  second  \n",
       "date                                                                    \n",
       "2015-02-04 17:51:00          1  2015      2    4    17      51       0  \n",
       "2015-02-04 17:52:00          1  2015      2    4    17      52       0  \n",
       "2015-02-04 17:53:00          1  2015      2    4    17      53       0  \n",
       "2015-02-04 17:54:00          1  2015      2    4    17      54       0  \n",
       "2015-02-04 17:55:00          1  2015      2    4    17      55       0  \n",
       "...                        ...   ...    ...  ...   ...     ...     ...  \n",
       "2015-02-10 09:29:00          1  2015      2   10     9      29       0  \n",
       "2015-02-10 09:30:00          1  2015      2   10     9      30       0  \n",
       "2015-02-10 09:31:00          1  2015      2   10     9      31       0  \n",
       "2015-02-10 09:32:00          1  2015      2   10     9      32       0  \n",
       "2015-02-10 09:33:00          1  2015      2   10     9      33       0  \n",
       "\n",
       "[8143 rows x 12 columns]"
      ]
     },
     "execution_count": 18,
     "metadata": {},
     "output_type": "execute_result"
    }
   ],
   "source": [
    "df, ts = df_handle.import_df(file_name='training.csv', search_in_folder=files_path,\n",
    "                             date_col_name='date', ts_name='Temperature', time_freq='min')\n",
    "df"
   ]
  },
  {
   "cell_type": "code",
   "execution_count": 9,
   "metadata": {},
   "outputs": [
    {
     "data": {
      "text/plain": [
       "2015-02-04 17:51:00    23.18\n",
       "2015-02-04 17:52:00    23.15\n",
       "2015-02-04 17:53:00    23.15\n",
       "2015-02-04 17:54:00    23.15\n",
       "2015-02-04 17:55:00    23.10\n",
       "                       ...  \n",
       "2015-02-10 09:29:00    21.05\n",
       "2015-02-10 09:30:00    21.05\n",
       "2015-02-10 09:31:00    21.10\n",
       "2015-02-10 09:32:00    21.10\n",
       "2015-02-10 09:33:00    21.10\n",
       "Freq: T, Name: Temperature, Length: 8143, dtype: float64"
      ]
     },
     "execution_count": 9,
     "metadata": {},
     "output_type": "execute_result"
    }
   ],
   "source": [
    "ts"
   ]
  },
  {
   "cell_type": "code",
   "execution_count": null,
   "metadata": {},
   "outputs": [],
   "source": []
  },
  {
   "cell_type": "code",
   "execution_count": null,
   "metadata": {},
   "outputs": [],
   "source": []
  },
  {
   "cell_type": "code",
   "execution_count": null,
   "metadata": {},
   "outputs": [],
   "source": []
  },
  {
   "cell_type": "markdown",
   "metadata": {},
   "source": [
    "# Time Series Approximation"
   ]
  },
  {
   "cell_type": "code",
   "execution_count": 43,
   "metadata": {},
   "outputs": [],
   "source": [
    "from tslearn.piecewise import PiecewiseAggregateApproximation\n",
    "from tslearn.piecewise import SymbolicAggregateApproximation\n",
    "from tslearn.piecewise import OneD_SymbolicAggregateApproximation"
   ]
  },
  {
   "cell_type": "code",
   "execution_count": 8,
   "metadata": {},
   "outputs": [],
   "source": [
    "from tslearn.preprocessing import TimeSeriesScalerMeanVariance"
   ]
  },
  {
   "cell_type": "code",
   "execution_count": 44,
   "metadata": {},
   "outputs": [],
   "source": [
    "scaler = TimeSeriesScalerMeanVariance(mu=0., std=1.)  # Rescale time series\n",
    "ts = scaler.fit_transform(ts)\n",
    "ts1 = scaler.fit_transform(ts1)\n",
    "ts2 = scaler.fit_transform(ts2)"
   ]
  },
  {
   "cell_type": "code",
   "execution_count": 45,
   "metadata": {},
   "outputs": [
    {
     "data": {
      "image/png": "[encoded data removed]",
      "text/plain": [
       "<Figure size 432x288 with 4 Axes>"
      ]
     },
     "metadata": {
      "needs_background": "light"
     },
     "output_type": "display_data"
    }
   ],
   "source": [
    "# PAA transform (and inverse transform) of the data\n",
    "n_paa_segments = 10\n",
    "paa = PiecewiseAggregateApproximation(n_segments=n_paa_segments)\n",
    "ts_paa = paa.fit_transform(ts)\n",
    "paa_dataset_inv = paa.inverse_transform(ts_paa)\n",
    "\n",
    "# SAX transform\n",
    "n_sax_symbols = 8\n",
    "sax = SymbolicAggregateApproximation(n_segments=n_paa_segments, alphabet_size_avg=n_sax_symbols)\n",
    "ts_sax = sax.fit_transform(ts)\n",
    "sax_dataset_inv = sax.inverse_transform(ts_sax)\n",
    "\n",
    "# 1d-SAX transform\n",
    "n_sax_symbols_avg = 8\n",
    "n_sax_symbols_slope = 4\n",
    "one_d_sax = OneD_SymbolicAggregateApproximation(\n",
    "    n_segments=n_paa_segments,\n",
    "    alphabet_size_avg=n_sax_symbols_avg,\n",
    "    alphabet_size_slope=n_sax_symbols_slope)\n",
    "\n",
    "ts_sax1d = one_d_sax.fit_transform(ts)\n",
    "one_d_sax_dataset_inv = one_d_sax.inverse_transform(ts_sax1d)\n",
    "\n",
    "plt.figure()\n",
    "plt.subplot(2, 2, 1)  # First, raw time series\n",
    "plt.plot(ts[0].ravel(), \"b-\")\n",
    "plt.title(\"Raw time series\")\n",
    "\n",
    "plt.subplot(2, 2, 2)  # Second, PAA\n",
    "plt.plot(ts[0].ravel(), \"b-\", alpha=0.4)\n",
    "plt.plot(paa_dataset_inv[0].ravel(), \"b-\")\n",
    "plt.title(\"PAA\")\n",
    "\n",
    "plt.subplot(2, 2, 3)  # Then SAX\n",
    "plt.plot(ts[0].ravel(), \"b-\", alpha=0.4)\n",
    "plt.plot(sax_dataset_inv[0].ravel(), \"b-\")\n",
    "plt.title(\"SAX, %d symbols\" % n_sax_symbols)\n",
    "\n",
    "plt.subplot(2, 2, 4)  # Finally, 1d-SAX\n",
    "plt.plot(ts[0].ravel(), \"b-\", alpha=0.4)\n",
    "plt.plot(one_d_sax_dataset_inv[0].ravel(), \"b-\")\n",
    "plt.title(\"1d-SAX, %d symbols\"\n",
    "          \"(%dx%d)\" % (n_sax_symbols_avg * n_sax_symbols_slope,\n",
    "                       n_sax_symbols_avg,\n",
    "                       n_sax_symbols_slope))\n",
    "\n",
    "plt.tight_layout()\n",
    "plt.show()"
   ]
  },
  {
   "cell_type": "code",
   "execution_count": 46,
   "metadata": {},
   "outputs": [
    {
     "data": {
      "image/png": "[encoded data removed]",
      "text/plain": [
       "<Figure size 432x288 with 1 Axes>"
      ]
     },
     "metadata": {
      "needs_background": "light"
     },
     "output_type": "display_data"
    }
   ],
   "source": [
    "plt.plot(ts1[0].ravel())\n",
    "plt.plot(ts2[0].ravel())\n",
    "plt.show()"
   ]
  },
  {
   "cell_type": "code",
   "execution_count": 47,
   "metadata": {},
   "outputs": [],
   "source": [
    "ts1_paa = paa.fit_transform(ts1)\n",
    "ts2_paa = paa.fit_transform(ts2)"
   ]
  },
  {
   "cell_type": "code",
   "execution_count": 48,
   "metadata": {},
   "outputs": [
    {
     "data": {
      "image/png": "[encoded data removed]",
      "text/plain": [
       "<Figure size 432x288 with 1 Axes>"
      ]
     },
     "metadata": {
      "needs_background": "light"
     },
     "output_type": "display_data"
    }
   ],
   "source": [
    "plt.plot(paa.inverse_transform(ts1_paa)[0].ravel())\n",
    "plt.plot(paa.inverse_transform(ts2_paa)[0].ravel())\n",
    "plt.show()"
   ]
  },
  {
   "cell_type": "code",
   "execution_count": 49,
   "metadata": {},
   "outputs": [
    {
     "name": "stdout",
     "output_type": "stream",
     "text": [
      "len(ts1_str + ts2_str):  390\n",
      "len(compress(ts1_str+ts2_str)):  210\n",
      "len(compress(ts1_str)):  119\n",
      "len(compress(ts2_str)):  117\n",
      "CDM =  0.8898305084745762\n"
     ]
    }
   ],
   "source": [
    "ts1_str = (' '.join([str(v) for v in ts1_paa[0].ravel()])).encode('utf-8')\n",
    "ts2_str = (' '.join([str(v) for v in ts2_paa[0].ravel()])).encode('utf-8')\n",
    "\n",
    "print(\"len(ts1_str + ts2_str): \", len(ts1_str + ts2_str))\n",
    "print(\"len(compress(ts1_str+ts2_str)): \", len(zlib.compress(ts1_str+ts2_str)))\n",
    "print(\"len(compress(ts1_str)): \", len(zlib.compress(ts1_str)))\n",
    "print(\"len(compress(ts2_str)): \", len(zlib.compress(ts2_str)))\n",
    "print(\"CDM = \", CDM(ts1_str, ts2_str))"
   ]
  },
  {
   "cell_type": "code",
   "execution_count": 50,
   "metadata": {},
   "outputs": [],
   "source": [
    "ts1_sax = sax.fit_transform(ts1)\n",
    "ts2_sax = sax.fit_transform(ts2)"
   ]
  },
  {
   "cell_type": "code",
   "execution_count": 51,
   "metadata": {},
   "outputs": [
    {
     "data": {
      "image/png": "[encoded data removed]",
      "text/plain": [
       "<Figure size 432x288 with 1 Axes>"
      ]
     },
     "metadata": {
      "needs_background": "light"
     },
     "output_type": "display_data"
    }
   ],
   "source": [
    "plt.plot(sax.inverse_transform(ts1_sax)[0].ravel())\n",
    "plt.plot(sax.inverse_transform(ts2_sax)[0].ravel())\n",
    "plt.show()"
   ]
  },
  {
   "cell_type": "code",
   "execution_count": 52,
   "metadata": {},
   "outputs": [
    {
     "name": "stdout",
     "output_type": "stream",
     "text": [
      "len(ts1_str + ts2_str):  38\n",
      "len(compress(ts1_str+ts2_str)):  28\n",
      "len(compress(ts1_str)):  24\n",
      "len(compress(ts2_str)):  24\n",
      "CDM =  0.5833333333333334\n"
     ]
    }
   ],
   "source": [
    "ts1_str = (' '.join([str(v) for v in ts1_sax[0].ravel()])).encode('utf-8')\n",
    "ts2_str = (' '.join([str(v) for v in ts2_sax[0].ravel()])).encode('utf-8')\n",
    "\n",
    "print(\"len(ts1_str + ts2_str): \", len(ts1_str + ts2_str))\n",
    "print(\"len(compress(ts1_str+ts2_str)): \", len(zlib.compress(ts1_str+ts2_str)))\n",
    "print(\"len(compress(ts1_str)): \", len(zlib.compress(ts1_str)))\n",
    "print(\"len(compress(ts2_str)): \", len(zlib.compress(ts2_str)))\n",
    "print(\"CDM = \", CDM(ts1_str, ts2_str))"
   ]
  },
  {
   "cell_type": "code",
   "execution_count": 53,
   "metadata": {},
   "outputs": [],
   "source": [
    "ts1_sax1d = one_d_sax.fit_transform(ts1)\n",
    "ts2_sax1d = one_d_sax.fit_transform(ts2)"
   ]
  },
  {
   "cell_type": "code",
   "execution_count": 54,
   "metadata": {},
   "outputs": [
    {
     "data": {
      "image/png": "[encoded data removed]",
      "text/plain": [
       "<Figure size 432x288 with 1 Axes>"
      ]
     },
     "metadata": {
      "needs_background": "light"
     },
     "output_type": "display_data"
    }
   ],
   "source": [
    "plt.plot(one_d_sax.inverse_transform(ts1_sax1d)[0].ravel())\n",
    "plt.plot(one_d_sax.inverse_transform(ts2_sax1d)[0].ravel())\n",
    "plt.show()"
   ]
  },
  {
   "cell_type": "code",
   "execution_count": 55,
   "metadata": {},
   "outputs": [
    {
     "name": "stdout",
     "output_type": "stream",
     "text": [
      "len(ts1_str + ts2_str):  78\n",
      "len(compress(ts1_str+ts2_str)):  39\n",
      "len(compress(ts1_str)):  33\n",
      "len(compress(ts2_str)):  33\n",
      "CDM =  0.5909090909090909\n"
     ]
    }
   ],
   "source": [
    "ts1_str = (' '.join([str(v) for v in ts1_sax1d[0].ravel()])).encode('utf-8')\n",
    "ts2_str = (' '.join([str(v) for v in ts2_sax1d[0].ravel()])).encode('utf-8')\n",
    "\n",
    "print(\"len(ts1_str + ts2_str): \", len(ts1_str + ts2_str))\n",
    "print(\"len(compress(ts1_str+ts2_str)): \", len(zlib.compress(ts1_str+ts2_str)))\n",
    "print(\"len(compress(ts1_str)): \", len(zlib.compress(ts1_str)))\n",
    "print(\"len(compress(ts2_str)): \", len(zlib.compress(ts2_str)))\n",
    "print(\"CDM = \", CDM(ts1_str, ts2_str))"
   ]
  },
  {
   "cell_type": "code",
   "execution_count": null,
   "metadata": {},
   "outputs": [],
   "source": []
  }
 ],
 "metadata": {
  "kernelspec": {
   "display_name": "Python 3",
   "language": "python",
   "name": "python3"
  },
  "language_info": {
   "codemirror_mode": {
    "name": "ipython",
    "version": 3
   },
   "file_extension": ".py",
   "mimetype": "text/x-python",
   "name": "python",
   "nbconvert_exporter": "python",
   "pygments_lexer": "ipython3",
   "version": "3.7.6"
  }
 },
 "nbformat": 4,
 "nbformat_minor": 4
}
