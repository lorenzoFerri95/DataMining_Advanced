{
 "cells": [
  {
   "cell_type": "markdown",
   "metadata": {},
   "source": [
    "**Python version:**  3.x"
   ]
  },
  {
   "cell_type": "markdown",
   "metadata": {},
   "source": [
    "### Variabili da Inizializzare"
   ]
  },
  {
   "cell_type": "code",
   "execution_count": 1,
   "metadata": {},
   "outputs": [],
   "source": [
    "# set the path of the directory where your modules are\n",
    "modulesPath = 'C:\\\\Users\\\\loren\\\\Documents\\\\Progetti\\\\Scuola\\\\AdvDataMining\\\\__Repo__'"
   ]
  },
  {
   "cell_type": "markdown",
   "metadata": {},
   "source": [
    "#### Moduli"
   ]
  },
  {
   "cell_type": "code",
   "execution_count": 2,
   "metadata": {
    "scrolled": true
   },
   "outputs": [
    {
     "name": "stdout",
     "output_type": "stream",
     "text": [
      "Available Files and Modules for the project:\n",
      "['datatest.txt', 'datatest2.txt', 'datatraining.txt', 'data_preparation.py', 'data_understanding.py', 'df_handle.py', 'logisticReg_pred_results.csv', 'modeling.py', 'model_evaluation.py', '__pycache__']\n"
     ]
    }
   ],
   "source": [
    "import os\n",
    "import sys\n",
    "\n",
    "if os.path.isdir(modulesPath) and modulesPath not in sys.path:\n",
    "    sys.path.append(modulesPath)\n",
    "\n",
    "modulesList = os.listdir(modulesPath)\n",
    "print('Available Files and Modules for the project:', modulesList,sep='\\n')\n",
    "\n",
    "%matplotlib inline\n",
    "\n",
    "import math\n",
    "import numpy as np\n",
    "import pandas as pd\n",
    "import scipy.stats as stats\n",
    "import matplotlib.pyplot as plt\n",
    "\n",
    "import df_handle\n",
    "import data_understanding\n",
    "import data_preparation\n",
    "import modeling\n",
    "import model_evaluation"
   ]
  },
  {
   "cell_type": "code",
   "execution_count": 3,
   "metadata": {},
   "outputs": [],
   "source": [
    "X_train, X_test, y_train, y_test = df_handle.setup_df('datatraining.txt', 'Occupancy', 'datatest.txt')"
   ]
  },
  {
   "cell_type": "code",
   "execution_count": 4,
   "metadata": {},
   "outputs": [],
   "source": [
    "del X_train['date']\n",
    "del X_test['date']"
   ]
  },
  {
   "cell_type": "markdown",
   "metadata": {},
   "source": [
    "# \\Decision Tree Classifier\\"
   ]
  },
  {
   "cell_type": "code",
   "execution_count": 6,
   "metadata": {},
   "outputs": [],
   "source": [
    "from sklearn.tree import DecisionTreeClassifier"
   ]
  },
  {
   "cell_type": "markdown",
   "metadata": {},
   "source": [
    "### Variabili da Inizializzare"
   ]
  },
  {
   "cell_type": "code",
   "execution_count": 7,
   "metadata": {},
   "outputs": [
    {
     "data": {
      "text/plain": [
       "{'class_weight': None,\n",
       " 'criterion': 'gini',\n",
       " 'max_depth': None,\n",
       " 'max_features': None,\n",
       " 'max_leaf_nodes': None,\n",
       " 'min_impurity_decrease': 0.0,\n",
       " 'min_impurity_split': None,\n",
       " 'min_samples_leaf': 1,\n",
       " 'min_samples_split': 2,\n",
       " 'min_weight_fraction_leaf': 0.0,\n",
       " 'presort': False,\n",
       " 'random_state': None,\n",
       " 'splitter': 'best'}"
      ]
     },
     "execution_count": 7,
     "metadata": {},
     "output_type": "execute_result"
    }
   ],
   "source": [
    "#seleziona il modello\n",
    "model = DecisionTreeClassifier()\n",
    "\n",
    "# per conoscere tutti i possibili iper-parametri del modello:\n",
    "model.get_params(deep=False)"
   ]
  },
  {
   "cell_type": "code",
   "execution_count": 8,
   "metadata": {
    "scrolled": true
   },
   "outputs": [],
   "source": [
    "#setta il range in cui devono essere cercati gli iper-parametri migliori peril modello\n",
    "\n",
    "params_domain_dic = {'min_samples_leaf': range(1,150)}\n",
    "\n",
    "\n",
    "#setta il numero di terazioni che l'algoritmo Random Search deve eseguire per trovare i parametri migliori\n",
    "\n",
    "iterN = 100"
   ]
  },
  {
   "cell_type": "markdown",
   "metadata": {},
   "source": [
    "## Ricerca dei migliori Iper-Parametri"
   ]
  },
  {
   "cell_type": "code",
   "execution_count": 9,
   "metadata": {},
   "outputs": [
    {
     "name": "stdout",
     "output_type": "stream",
     "text": [
      "Best values for searched parameters: \n",
      "{'min_samples_leaf': 129}\n"
     ]
    }
   ],
   "source": [
    "clf = modeling.fit_best_clf(X_train, y_train,\n",
    "                            model=model, iterN=iterN, params_domain_dic=params_domain_dic)"
   ]
  },
  {
   "cell_type": "markdown",
   "metadata": {},
   "source": [
    "## Validazione del Modello"
   ]
  },
  {
   "cell_type": "code",
   "execution_count": 10,
   "metadata": {
    "scrolled": false
   },
   "outputs": [
    {
     "name": "stdout",
     "output_type": "stream",
     "text": [
      "Accuracy at a 95 percent confidence interval: 0.98 (+/- 0.05)\n",
      "\n",
      "F1 Score at a 95 percent confidence interval: 0.97 (+/- 0.06)\n"
     ]
    }
   ],
   "source": [
    "model_evaluation.validate_clf(clf, X_train, y_train)"
   ]
  },
  {
   "cell_type": "markdown",
   "metadata": {},
   "source": [
    "## Test del modello"
   ]
  },
  {
   "cell_type": "code",
   "execution_count": 11,
   "metadata": {
    "scrolled": true
   },
   "outputs": [
    {
     "name": "stdout",
     "output_type": "stream",
     "text": [
      "Accuracy: 0.9786116322701689\n",
      "\n",
      "F1-score: [0.98290855 0.97142857]\n",
      "\n",
      "Weighted Average F1-score: 0.9787214781780913\n",
      "\n",
      "             precision    recall  f1-score   support\n",
      "\n",
      "          0       1.00      0.97      0.98      1693\n",
      "          1       0.95      1.00      0.97       972\n",
      "\n",
      "avg / total       0.98      0.98      0.98      2665\n",
      "\n",
      "\n"
     ]
    },
    {
     "data": {
      "image/png": "[encoded data removed]",
      "text/plain": [
       "<Figure size 432x288 with 1 Axes>"
      ]
     },
     "metadata": {},
     "output_type": "display_data"
    }
   ],
   "source": [
    "model_evaluation.test_clf(clf, X_test, y_test)"
   ]
  },
  {
   "cell_type": "code",
   "execution_count": null,
   "metadata": {
    "scrolled": true
   },
   "outputs": [
    {
     "data": {
      "image/png": "[encoded data removed]",
      "text/plain": [
       "<Figure size 576x288 with 1 Axes>"
      ]
     },
     "metadata": {},
     "output_type": "display_data"
    },
    {
     "data": {
      "image/png": "[encoded data removed]",
      "text/plain": [
       "<Figure size 576x288 with 1 Axes>"
      ]
     },
     "metadata": {},
     "output_type": "display_data"
    },
    {
     "data": {
      "image/png": "[encoded data removed]",
      "text/plain": [
       "<Figure size 576x288 with 1 Axes>"
      ]
     },
     "metadata": {},
     "output_type": "display_data"
    },
    {
     "data": {
      "image/png": "[encoded data removed]",
      "text/plain": [
       "<Figure size 576x288 with 1 Axes>"
      ]
     },
     "metadata": {},
     "output_type": "display_data"
    }
   ],
   "source": [
    "model_evaluation.decision_boundary_scatterplots(X_test, y_test, clf)"
   ]
  },
  {
   "cell_type": "markdown",
   "metadata": {},
   "source": [
    "### Importanza degli Attributi"
   ]
  },
  {
   "cell_type": "code",
   "execution_count": 12,
   "metadata": {},
   "outputs": [
    {
     "data": {
      "text/plain": [
       "array([5.55051393e-03, 6.70573224e-03, 9.85944897e-01, 1.78141445e-03,\n",
       "       1.74428128e-05])"
      ]
     },
     "execution_count": 12,
     "metadata": {},
     "output_type": "execute_result"
    }
   ],
   "source": [
    "clf.feature_importances_"
   ]
  },
  {
   "cell_type": "code",
   "execution_count": 13,
   "metadata": {
    "scrolled": false
   },
   "outputs": [
    {
     "data": {
      "text/plain": [
       "0.9859448965646704"
      ]
     },
     "execution_count": 13,
     "metadata": {},
     "output_type": "execute_result"
    }
   ],
   "source": [
    "max(clf.feature_importances_)"
   ]
  },
  {
   "cell_type": "code",
   "execution_count": 14,
   "metadata": {
    "scrolled": true
   },
   "outputs": [
    {
     "data": {
      "text/html": [
       "<div>\n",
       "<style scoped>\n",
       "    .dataframe tbody tr th:only-of-type {\n",
       "        vertical-align: middle;\n",
       "    }\n",
       "\n",
       "    .dataframe tbody tr th {\n",
       "        vertical-align: top;\n",
       "    }\n",
       "\n",
       "    .dataframe thead th {\n",
       "        text-align: right;\n",
       "    }\n",
       "</style>\n",
       "<table border=\"1\" class=\"dataframe\">\n",
       "  <thead>\n",
       "    <tr style=\"text-align: right;\">\n",
       "      <th></th>\n",
       "      <th>Temperature</th>\n",
       "      <th>Humidity</th>\n",
       "      <th>Light</th>\n",
       "      <th>CO2</th>\n",
       "      <th>HumidityRatio</th>\n",
       "    </tr>\n",
       "  </thead>\n",
       "  <tbody>\n",
       "    <tr>\n",
       "      <th>140</th>\n",
       "      <td>23.700000</td>\n",
       "      <td>26.272000</td>\n",
       "      <td>585.200000</td>\n",
       "      <td>749.200000</td>\n",
       "      <td>0.004764</td>\n",
       "    </tr>\n",
       "    <tr>\n",
       "      <th>141</th>\n",
       "      <td>23.718000</td>\n",
       "      <td>26.290000</td>\n",
       "      <td>578.400000</td>\n",
       "      <td>760.400000</td>\n",
       "      <td>0.004773</td>\n",
       "    </tr>\n",
       "    <tr>\n",
       "      <th>142</th>\n",
       "      <td>23.730000</td>\n",
       "      <td>26.230000</td>\n",
       "      <td>572.666667</td>\n",
       "      <td>769.666667</td>\n",
       "      <td>0.004765</td>\n",
       "    </tr>\n",
       "    <tr>\n",
       "      <th>143</th>\n",
       "      <td>23.722500</td>\n",
       "      <td>26.125000</td>\n",
       "      <td>493.750000</td>\n",
       "      <td>774.750000</td>\n",
       "      <td>0.004744</td>\n",
       "    </tr>\n",
       "    <tr>\n",
       "      <th>144</th>\n",
       "      <td>23.754000</td>\n",
       "      <td>26.200000</td>\n",
       "      <td>488.600000</td>\n",
       "      <td>779.000000</td>\n",
       "      <td>0.004767</td>\n",
       "    </tr>\n",
       "    <tr>\n",
       "      <th>145</th>\n",
       "      <td>23.760000</td>\n",
       "      <td>26.260000</td>\n",
       "      <td>568.666667</td>\n",
       "      <td>790.000000</td>\n",
       "      <td>0.004779</td>\n",
       "    </tr>\n",
       "    <tr>\n",
       "      <th>146</th>\n",
       "      <td>23.730000</td>\n",
       "      <td>26.290000</td>\n",
       "      <td>536.333333</td>\n",
       "      <td>798.000000</td>\n",
       "      <td>0.004776</td>\n",
       "    </tr>\n",
       "    <tr>\n",
       "      <th>147</th>\n",
       "      <td>23.754000</td>\n",
       "      <td>26.290000</td>\n",
       "      <td>509.000000</td>\n",
       "      <td>797.000000</td>\n",
       "      <td>0.004783</td>\n",
       "    </tr>\n",
       "    <tr>\n",
       "      <th>148</th>\n",
       "      <td>23.754000</td>\n",
       "      <td>26.350000</td>\n",
       "      <td>476.000000</td>\n",
       "      <td>803.200000</td>\n",
       "      <td>0.004794</td>\n",
       "    </tr>\n",
       "    <tr>\n",
       "      <th>149</th>\n",
       "      <td>23.736000</td>\n",
       "      <td>26.390000</td>\n",
       "      <td>510.000000</td>\n",
       "      <td>809.000000</td>\n",
       "      <td>0.004796</td>\n",
       "    </tr>\n",
       "    <tr>\n",
       "      <th>150</th>\n",
       "      <td>23.745000</td>\n",
       "      <td>26.445000</td>\n",
       "      <td>481.500000</td>\n",
       "      <td>815.250000</td>\n",
       "      <td>0.004809</td>\n",
       "    </tr>\n",
       "    <tr>\n",
       "      <th>151</th>\n",
       "      <td>23.700000</td>\n",
       "      <td>26.560000</td>\n",
       "      <td>481.800000</td>\n",
       "      <td>824.000000</td>\n",
       "      <td>0.004817</td>\n",
       "    </tr>\n",
       "    <tr>\n",
       "      <th>152</th>\n",
       "      <td>23.700000</td>\n",
       "      <td>26.600000</td>\n",
       "      <td>475.250000</td>\n",
       "      <td>832.000000</td>\n",
       "      <td>0.004824</td>\n",
       "    </tr>\n",
       "    <tr>\n",
       "      <th>153</th>\n",
       "      <td>23.700000</td>\n",
       "      <td>26.700000</td>\n",
       "      <td>469.000000</td>\n",
       "      <td>845.333333</td>\n",
       "      <td>0.004842</td>\n",
       "    </tr>\n",
       "    <tr>\n",
       "      <th>154</th>\n",
       "      <td>23.700000</td>\n",
       "      <td>26.774000</td>\n",
       "      <td>464.000000</td>\n",
       "      <td>852.400000</td>\n",
       "      <td>0.004856</td>\n",
       "    </tr>\n",
       "    <tr>\n",
       "      <th>155</th>\n",
       "      <td>23.700000</td>\n",
       "      <td>26.890000</td>\n",
       "      <td>464.000000</td>\n",
       "      <td>861.000000</td>\n",
       "      <td>0.004877</td>\n",
       "    </tr>\n",
       "    <tr>\n",
       "      <th>156</th>\n",
       "      <td>23.700000</td>\n",
       "      <td>26.972500</td>\n",
       "      <td>455.000000</td>\n",
       "      <td>880.000000</td>\n",
       "      <td>0.004892</td>\n",
       "    </tr>\n",
       "    <tr>\n",
       "      <th>157</th>\n",
       "      <td>23.600000</td>\n",
       "      <td>26.890000</td>\n",
       "      <td>454.000000</td>\n",
       "      <td>891.000000</td>\n",
       "      <td>0.004848</td>\n",
       "    </tr>\n",
       "    <tr>\n",
       "      <th>158</th>\n",
       "      <td>23.640000</td>\n",
       "      <td>26.976000</td>\n",
       "      <td>458.000000</td>\n",
       "      <td>897.600000</td>\n",
       "      <td>0.004875</td>\n",
       "    </tr>\n",
       "    <tr>\n",
       "      <th>159</th>\n",
       "      <td>23.650000</td>\n",
       "      <td>27.050000</td>\n",
       "      <td>464.000000</td>\n",
       "      <td>900.500000</td>\n",
       "      <td>0.004891</td>\n",
       "    </tr>\n",
       "    <tr>\n",
       "      <th>160</th>\n",
       "      <td>23.640000</td>\n",
       "      <td>27.100000</td>\n",
       "      <td>473.000000</td>\n",
       "      <td>908.800000</td>\n",
       "      <td>0.004898</td>\n",
       "    </tr>\n",
       "    <tr>\n",
       "      <th>161</th>\n",
       "      <td>23.600000</td>\n",
       "      <td>27.160000</td>\n",
       "      <td>464.000000</td>\n",
       "      <td>918.000000</td>\n",
       "      <td>0.004897</td>\n",
       "    </tr>\n",
       "    <tr>\n",
       "      <th>162</th>\n",
       "      <td>23.600000</td>\n",
       "      <td>27.236000</td>\n",
       "      <td>498.400000</td>\n",
       "      <td>925.200000</td>\n",
       "      <td>0.004910</td>\n",
       "    </tr>\n",
       "    <tr>\n",
       "      <th>163</th>\n",
       "      <td>23.600000</td>\n",
       "      <td>27.290000</td>\n",
       "      <td>530.200000</td>\n",
       "      <td>929.400000</td>\n",
       "      <td>0.004920</td>\n",
       "    </tr>\n",
       "    <tr>\n",
       "      <th>164</th>\n",
       "      <td>23.600000</td>\n",
       "      <td>27.330000</td>\n",
       "      <td>533.600000</td>\n",
       "      <td>936.400000</td>\n",
       "      <td>0.004928</td>\n",
       "    </tr>\n",
       "    <tr>\n",
       "      <th>165</th>\n",
       "      <td>23.600000</td>\n",
       "      <td>27.340000</td>\n",
       "      <td>524.250000</td>\n",
       "      <td>950.000000</td>\n",
       "      <td>0.004929</td>\n",
       "    </tr>\n",
       "    <tr>\n",
       "      <th>166</th>\n",
       "      <td>23.625000</td>\n",
       "      <td>27.392500</td>\n",
       "      <td>498.666667</td>\n",
       "      <td>961.000000</td>\n",
       "      <td>0.004946</td>\n",
       "    </tr>\n",
       "    <tr>\n",
       "      <th>167</th>\n",
       "      <td>23.600000</td>\n",
       "      <td>27.390000</td>\n",
       "      <td>516.333333</td>\n",
       "      <td>963.000000</td>\n",
       "      <td>0.004938</td>\n",
       "    </tr>\n",
       "    <tr>\n",
       "      <th>168</th>\n",
       "      <td>23.600000</td>\n",
       "      <td>27.412000</td>\n",
       "      <td>501.200000</td>\n",
       "      <td>958.600000</td>\n",
       "      <td>0.004942</td>\n",
       "    </tr>\n",
       "    <tr>\n",
       "      <th>169</th>\n",
       "      <td>23.600000</td>\n",
       "      <td>27.500000</td>\n",
       "      <td>522.000000</td>\n",
       "      <td>965.333333</td>\n",
       "      <td>0.004958</td>\n",
       "    </tr>\n",
       "    <tr>\n",
       "      <th>...</th>\n",
       "      <td>...</td>\n",
       "      <td>...</td>\n",
       "      <td>...</td>\n",
       "      <td>...</td>\n",
       "      <td>...</td>\n",
       "    </tr>\n",
       "    <tr>\n",
       "      <th>2775</th>\n",
       "      <td>23.790000</td>\n",
       "      <td>26.310000</td>\n",
       "      <td>763.000000</td>\n",
       "      <td>1158.200000</td>\n",
       "      <td>0.004797</td>\n",
       "    </tr>\n",
       "    <tr>\n",
       "      <th>2776</th>\n",
       "      <td>23.790000</td>\n",
       "      <td>26.315000</td>\n",
       "      <td>758.250000</td>\n",
       "      <td>1160.250000</td>\n",
       "      <td>0.004798</td>\n",
       "    </tr>\n",
       "    <tr>\n",
       "      <th>2777</th>\n",
       "      <td>23.890000</td>\n",
       "      <td>26.390000</td>\n",
       "      <td>755.500000</td>\n",
       "      <td>1166.000000</td>\n",
       "      <td>0.004841</td>\n",
       "    </tr>\n",
       "    <tr>\n",
       "      <th>2778</th>\n",
       "      <td>23.890000</td>\n",
       "      <td>26.365000</td>\n",
       "      <td>758.250000</td>\n",
       "      <td>1164.750000</td>\n",
       "      <td>0.004837</td>\n",
       "    </tr>\n",
       "    <tr>\n",
       "      <th>2779</th>\n",
       "      <td>23.890000</td>\n",
       "      <td>26.290000</td>\n",
       "      <td>772.750000</td>\n",
       "      <td>1163.250000</td>\n",
       "      <td>0.004823</td>\n",
       "    </tr>\n",
       "    <tr>\n",
       "      <th>2780</th>\n",
       "      <td>23.984286</td>\n",
       "      <td>26.375714</td>\n",
       "      <td>767.000000</td>\n",
       "      <td>1172.714286</td>\n",
       "      <td>0.004866</td>\n",
       "    </tr>\n",
       "    <tr>\n",
       "      <th>2781</th>\n",
       "      <td>24.000000</td>\n",
       "      <td>26.365000</td>\n",
       "      <td>774.500000</td>\n",
       "      <td>1182.000000</td>\n",
       "      <td>0.004869</td>\n",
       "    </tr>\n",
       "    <tr>\n",
       "      <th>2782</th>\n",
       "      <td>24.050000</td>\n",
       "      <td>26.340000</td>\n",
       "      <td>774.500000</td>\n",
       "      <td>1182.000000</td>\n",
       "      <td>0.004879</td>\n",
       "    </tr>\n",
       "    <tr>\n",
       "      <th>2783</th>\n",
       "      <td>24.080000</td>\n",
       "      <td>26.370000</td>\n",
       "      <td>769.800000</td>\n",
       "      <td>1187.600000</td>\n",
       "      <td>0.004893</td>\n",
       "    </tr>\n",
       "    <tr>\n",
       "      <th>2784</th>\n",
       "      <td>24.100000</td>\n",
       "      <td>26.566667</td>\n",
       "      <td>758.333333</td>\n",
       "      <td>1191.333333</td>\n",
       "      <td>0.004936</td>\n",
       "    </tr>\n",
       "    <tr>\n",
       "      <th>2785</th>\n",
       "      <td>24.100000</td>\n",
       "      <td>26.472500</td>\n",
       "      <td>775.750000</td>\n",
       "      <td>1213.750000</td>\n",
       "      <td>0.004919</td>\n",
       "    </tr>\n",
       "    <tr>\n",
       "      <th>2786</th>\n",
       "      <td>24.100000</td>\n",
       "      <td>26.154000</td>\n",
       "      <td>775.000000</td>\n",
       "      <td>1194.000000</td>\n",
       "      <td>0.004859</td>\n",
       "    </tr>\n",
       "    <tr>\n",
       "      <th>2787</th>\n",
       "      <td>24.100000</td>\n",
       "      <td>25.958000</td>\n",
       "      <td>783.400000</td>\n",
       "      <td>1173.400000</td>\n",
       "      <td>0.004822</td>\n",
       "    </tr>\n",
       "    <tr>\n",
       "      <th>2788</th>\n",
       "      <td>24.100000</td>\n",
       "      <td>25.918000</td>\n",
       "      <td>789.600000</td>\n",
       "      <td>1160.200000</td>\n",
       "      <td>0.004815</td>\n",
       "    </tr>\n",
       "    <tr>\n",
       "      <th>2789</th>\n",
       "      <td>24.100000</td>\n",
       "      <td>25.892500</td>\n",
       "      <td>797.500000</td>\n",
       "      <td>1156.250000</td>\n",
       "      <td>0.004810</td>\n",
       "    </tr>\n",
       "    <tr>\n",
       "      <th>2790</th>\n",
       "      <td>24.100000</td>\n",
       "      <td>25.832000</td>\n",
       "      <td>799.000000</td>\n",
       "      <td>1139.000000</td>\n",
       "      <td>0.004799</td>\n",
       "    </tr>\n",
       "    <tr>\n",
       "      <th>2791</th>\n",
       "      <td>24.175000</td>\n",
       "      <td>25.840000</td>\n",
       "      <td>782.500000</td>\n",
       "      <td>1140.500000</td>\n",
       "      <td>0.004822</td>\n",
       "    </tr>\n",
       "    <tr>\n",
       "      <th>2792</th>\n",
       "      <td>24.200000</td>\n",
       "      <td>25.891667</td>\n",
       "      <td>786.166667</td>\n",
       "      <td>1145.333333</td>\n",
       "      <td>0.004839</td>\n",
       "    </tr>\n",
       "    <tr>\n",
       "      <th>2793</th>\n",
       "      <td>24.200000</td>\n",
       "      <td>25.890000</td>\n",
       "      <td>794.250000</td>\n",
       "      <td>1149.250000</td>\n",
       "      <td>0.004839</td>\n",
       "    </tr>\n",
       "    <tr>\n",
       "      <th>2794</th>\n",
       "      <td>24.200000</td>\n",
       "      <td>25.890000</td>\n",
       "      <td>797.500000</td>\n",
       "      <td>1152.500000</td>\n",
       "      <td>0.004839</td>\n",
       "    </tr>\n",
       "    <tr>\n",
       "      <th>2795</th>\n",
       "      <td>24.200000</td>\n",
       "      <td>25.890000</td>\n",
       "      <td>787.000000</td>\n",
       "      <td>1153.250000</td>\n",
       "      <td>0.004839</td>\n",
       "    </tr>\n",
       "    <tr>\n",
       "      <th>2796</th>\n",
       "      <td>24.218000</td>\n",
       "      <td>25.912000</td>\n",
       "      <td>805.000000</td>\n",
       "      <td>1152.400000</td>\n",
       "      <td>0.004848</td>\n",
       "    </tr>\n",
       "    <tr>\n",
       "      <th>2797</th>\n",
       "      <td>24.260000</td>\n",
       "      <td>25.891667</td>\n",
       "      <td>798.000000</td>\n",
       "      <td>1146.166667</td>\n",
       "      <td>0.004857</td>\n",
       "    </tr>\n",
       "    <tr>\n",
       "      <th>2798</th>\n",
       "      <td>24.290000</td>\n",
       "      <td>25.978000</td>\n",
       "      <td>793.000000</td>\n",
       "      <td>1145.400000</td>\n",
       "      <td>0.004882</td>\n",
       "    </tr>\n",
       "    <tr>\n",
       "      <th>2799</th>\n",
       "      <td>24.290000</td>\n",
       "      <td>25.852000</td>\n",
       "      <td>801.400000</td>\n",
       "      <td>1140.800000</td>\n",
       "      <td>0.004858</td>\n",
       "    </tr>\n",
       "    <tr>\n",
       "      <th>2800</th>\n",
       "      <td>24.290000</td>\n",
       "      <td>25.700000</td>\n",
       "      <td>808.000000</td>\n",
       "      <td>1150.250000</td>\n",
       "      <td>0.004829</td>\n",
       "    </tr>\n",
       "    <tr>\n",
       "      <th>2801</th>\n",
       "      <td>24.330000</td>\n",
       "      <td>25.736000</td>\n",
       "      <td>809.800000</td>\n",
       "      <td>1129.200000</td>\n",
       "      <td>0.004848</td>\n",
       "    </tr>\n",
       "    <tr>\n",
       "      <th>2802</th>\n",
       "      <td>24.330000</td>\n",
       "      <td>25.700000</td>\n",
       "      <td>817.000000</td>\n",
       "      <td>1125.800000</td>\n",
       "      <td>0.004841</td>\n",
       "    </tr>\n",
       "    <tr>\n",
       "      <th>2803</th>\n",
       "      <td>24.356667</td>\n",
       "      <td>25.700000</td>\n",
       "      <td>813.000000</td>\n",
       "      <td>1123.000000</td>\n",
       "      <td>0.004849</td>\n",
       "    </tr>\n",
       "    <tr>\n",
       "      <th>2804</th>\n",
       "      <td>24.408333</td>\n",
       "      <td>25.681667</td>\n",
       "      <td>798.000000</td>\n",
       "      <td>1124.000000</td>\n",
       "      <td>0.004860</td>\n",
       "    </tr>\n",
       "  </tbody>\n",
       "</table>\n",
       "<p>2665 rows × 5 columns</p>\n",
       "</div>"
      ],
      "text/plain": [
       "      Temperature   Humidity       Light          CO2  HumidityRatio\n",
       "140     23.700000  26.272000  585.200000   749.200000       0.004764\n",
       "141     23.718000  26.290000  578.400000   760.400000       0.004773\n",
       "142     23.730000  26.230000  572.666667   769.666667       0.004765\n",
       "143     23.722500  26.125000  493.750000   774.750000       0.004744\n",
       "144     23.754000  26.200000  488.600000   779.000000       0.004767\n",
       "145     23.760000  26.260000  568.666667   790.000000       0.004779\n",
       "146     23.730000  26.290000  536.333333   798.000000       0.004776\n",
       "147     23.754000  26.290000  509.000000   797.000000       0.004783\n",
       "148     23.754000  26.350000  476.000000   803.200000       0.004794\n",
       "149     23.736000  26.390000  510.000000   809.000000       0.004796\n",
       "150     23.745000  26.445000  481.500000   815.250000       0.004809\n",
       "151     23.700000  26.560000  481.800000   824.000000       0.004817\n",
       "152     23.700000  26.600000  475.250000   832.000000       0.004824\n",
       "153     23.700000  26.700000  469.000000   845.333333       0.004842\n",
       "154     23.700000  26.774000  464.000000   852.400000       0.004856\n",
       "155     23.700000  26.890000  464.000000   861.000000       0.004877\n",
       "156     23.700000  26.972500  455.000000   880.000000       0.004892\n",
       "157     23.600000  26.890000  454.000000   891.000000       0.004848\n",
       "158     23.640000  26.976000  458.000000   897.600000       0.004875\n",
       "159     23.650000  27.050000  464.000000   900.500000       0.004891\n",
       "160     23.640000  27.100000  473.000000   908.800000       0.004898\n",
       "161     23.600000  27.160000  464.000000   918.000000       0.004897\n",
       "162     23.600000  27.236000  498.400000   925.200000       0.004910\n",
       "163     23.600000  27.290000  530.200000   929.400000       0.004920\n",
       "164     23.600000  27.330000  533.600000   936.400000       0.004928\n",
       "165     23.600000  27.340000  524.250000   950.000000       0.004929\n",
       "166     23.625000  27.392500  498.666667   961.000000       0.004946\n",
       "167     23.600000  27.390000  516.333333   963.000000       0.004938\n",
       "168     23.600000  27.412000  501.200000   958.600000       0.004942\n",
       "169     23.600000  27.500000  522.000000   965.333333       0.004958\n",
       "...           ...        ...         ...          ...            ...\n",
       "2775    23.790000  26.310000  763.000000  1158.200000       0.004797\n",
       "2776    23.790000  26.315000  758.250000  1160.250000       0.004798\n",
       "2777    23.890000  26.390000  755.500000  1166.000000       0.004841\n",
       "2778    23.890000  26.365000  758.250000  1164.750000       0.004837\n",
       "2779    23.890000  26.290000  772.750000  1163.250000       0.004823\n",
       "2780    23.984286  26.375714  767.000000  1172.714286       0.004866\n",
       "2781    24.000000  26.365000  774.500000  1182.000000       0.004869\n",
       "2782    24.050000  26.340000  774.500000  1182.000000       0.004879\n",
       "2783    24.080000  26.370000  769.800000  1187.600000       0.004893\n",
       "2784    24.100000  26.566667  758.333333  1191.333333       0.004936\n",
       "2785    24.100000  26.472500  775.750000  1213.750000       0.004919\n",
       "2786    24.100000  26.154000  775.000000  1194.000000       0.004859\n",
       "2787    24.100000  25.958000  783.400000  1173.400000       0.004822\n",
       "2788    24.100000  25.918000  789.600000  1160.200000       0.004815\n",
       "2789    24.100000  25.892500  797.500000  1156.250000       0.004810\n",
       "2790    24.100000  25.832000  799.000000  1139.000000       0.004799\n",
       "2791    24.175000  25.840000  782.500000  1140.500000       0.004822\n",
       "2792    24.200000  25.891667  786.166667  1145.333333       0.004839\n",
       "2793    24.200000  25.890000  794.250000  1149.250000       0.004839\n",
       "2794    24.200000  25.890000  797.500000  1152.500000       0.004839\n",
       "2795    24.200000  25.890000  787.000000  1153.250000       0.004839\n",
       "2796    24.218000  25.912000  805.000000  1152.400000       0.004848\n",
       "2797    24.260000  25.891667  798.000000  1146.166667       0.004857\n",
       "2798    24.290000  25.978000  793.000000  1145.400000       0.004882\n",
       "2799    24.290000  25.852000  801.400000  1140.800000       0.004858\n",
       "2800    24.290000  25.700000  808.000000  1150.250000       0.004829\n",
       "2801    24.330000  25.736000  809.800000  1129.200000       0.004848\n",
       "2802    24.330000  25.700000  817.000000  1125.800000       0.004841\n",
       "2803    24.356667  25.700000  813.000000  1123.000000       0.004849\n",
       "2804    24.408333  25.681667  798.000000  1124.000000       0.004860\n",
       "\n",
       "[2665 rows x 5 columns]"
      ]
     },
     "execution_count": 14,
     "metadata": {},
     "output_type": "execute_result"
    }
   ],
   "source": [
    "X_test"
   ]
  },
  {
   "cell_type": "markdown",
   "metadata": {},
   "source": [
    "# \\K-NN\\"
   ]
  },
  {
   "cell_type": "code",
   "execution_count": 15,
   "metadata": {},
   "outputs": [],
   "source": [
    "from sklearn.neighbors import KNeighborsClassifier"
   ]
  },
  {
   "cell_type": "markdown",
   "metadata": {},
   "source": [
    "### Variabili da Inizializzare"
   ]
  },
  {
   "cell_type": "code",
   "execution_count": 16,
   "metadata": {},
   "outputs": [
    {
     "data": {
      "text/plain": [
       "{'algorithm': 'auto',\n",
       " 'leaf_size': 30,\n",
       " 'metric': 'minkowski',\n",
       " 'metric_params': None,\n",
       " 'n_jobs': 1,\n",
       " 'n_neighbors': 5,\n",
       " 'p': 2,\n",
       " 'weights': 'uniform'}"
      ]
     },
     "execution_count": 16,
     "metadata": {},
     "output_type": "execute_result"
    }
   ],
   "source": [
    "#seleziona il modello\n",
    "model = KNeighborsClassifier()\n",
    "\n",
    "# per conoscere tutti i possibili iper-parametri del modello:\n",
    "model.get_params(deep=False)"
   ]
  },
  {
   "cell_type": "code",
   "execution_count": 24,
   "metadata": {
    "scrolled": true
   },
   "outputs": [],
   "source": [
    "#setta il range in cui devono essere cercati gli iper-parametri migliori peril modello\n",
    "\n",
    "params_domain_dic = {'n_neighbors': range(1,30),\n",
    "                    'weights': ['uniform', 'distance']}\n",
    "\n",
    "#setta il numero di terazioni che l'algoritmo Random Search deve eseguire per trovare i parametri migliori\n",
    "\n",
    "iterN = 10"
   ]
  },
  {
   "cell_type": "markdown",
   "metadata": {},
   "source": [
    "## Ricerca dei migliori Iper-Parametri"
   ]
  },
  {
   "cell_type": "code",
   "execution_count": 25,
   "metadata": {
    "scrolled": true
   },
   "outputs": [
    {
     "name": "stdout",
     "output_type": "stream",
     "text": [
      "Best values for searched parameters: \n",
      "{'weights': 'uniform', 'n_neighbors': 26}\n"
     ]
    }
   ],
   "source": [
    "clf = modeling.fit_best_clf(X_train, y_train,\n",
    "                            model=model, iterN=iterN, params_domain_dic=params_domain_dic)"
   ]
  },
  {
   "cell_type": "markdown",
   "metadata": {},
   "source": [
    "## Validazione del Modello"
   ]
  },
  {
   "cell_type": "code",
   "execution_count": 26,
   "metadata": {},
   "outputs": [
    {
     "name": "stdout",
     "output_type": "stream",
     "text": [
      "Accuracy at a 95 percent confidence interval: 0.97 (+/- 0.04)\n",
      "\n",
      "F1 Score at a 95 percent confidence interval: 0.96 (+/- 0.07)\n"
     ]
    }
   ],
   "source": [
    "model_evaluation.validate_clf(clf, X_train, y_train)"
   ]
  },
  {
   "cell_type": "markdown",
   "metadata": {},
   "source": [
    "## Test del modello"
   ]
  },
  {
   "cell_type": "code",
   "execution_count": 27,
   "metadata": {
    "scrolled": true
   },
   "outputs": [
    {
     "name": "stdout",
     "output_type": "stream",
     "text": [
      "Accuracy: 0.9782363977485928\n",
      "\n",
      "F1-score: [0.98261391 0.97091274]\n",
      "\n",
      "Weighted Average F1-score: 0.9783461648279386\n",
      "\n",
      "             precision    recall  f1-score   support\n",
      "\n",
      "          0       1.00      0.97      0.98      1693\n",
      "          1       0.95      1.00      0.97       972\n",
      "\n",
      "avg / total       0.98      0.98      0.98      2665\n",
      "\n",
      "\n"
     ]
    },
    {
     "data": {
      "image/png": "[encoded data removed]",
      "text/plain": [
       "<Figure size 432x288 with 1 Axes>"
      ]
     },
     "metadata": {},
     "output_type": "display_data"
    }
   ],
   "source": [
    "model_evaluation.test_clf(clf, X_test, y_test)"
   ]
  },
  {
   "cell_type": "code",
   "execution_count": null,
   "metadata": {},
   "outputs": [],
   "source": [
    "model_evaluation.decision_boundary_scatterplots(X_test, y_test, clf)"
   ]
  },
  {
   "cell_type": "markdown",
   "metadata": {},
   "source": [
    "# \\Naive Bayes\\"
   ]
  },
  {
   "cell_type": "code",
   "execution_count": 28,
   "metadata": {},
   "outputs": [],
   "source": [
    "from sklearn.naive_bayes import GaussianNB#, CategoricalNB"
   ]
  },
  {
   "cell_type": "code",
   "execution_count": 29,
   "metadata": {},
   "outputs": [
    {
     "data": {
      "text/plain": [
       "GaussianNB(priors=None)"
      ]
     },
     "execution_count": 29,
     "metadata": {},
     "output_type": "execute_result"
    }
   ],
   "source": [
    "#seleziona il modello\n",
    "clf = GaussianNB()\n",
    "\n",
    "#fitta il modello\n",
    "clf.fit(X_train, y_train)"
   ]
  },
  {
   "cell_type": "markdown",
   "metadata": {},
   "source": [
    "## Validazione del Modello"
   ]
  },
  {
   "cell_type": "code",
   "execution_count": 30,
   "metadata": {},
   "outputs": [
    {
     "name": "stdout",
     "output_type": "stream",
     "text": [
      "Accuracy at a 95 percent confidence interval: 0.96 (+/- 0.05)\n",
      "\n",
      "F1 Score at a 95 percent confidence interval: 0.95 (+/- 0.07)\n"
     ]
    }
   ],
   "source": [
    "model_evaluation.validate_clf(clf, X_train, y_train)"
   ]
  },
  {
   "cell_type": "markdown",
   "metadata": {},
   "source": [
    "## Test del modello"
   ]
  },
  {
   "cell_type": "code",
   "execution_count": 31,
   "metadata": {
    "scrolled": true
   },
   "outputs": [
    {
     "name": "stdout",
     "output_type": "stream",
     "text": [
      "Accuracy: 0.9774859287054409\n",
      "\n",
      "F1-score: [0.98201439 0.96990973]\n",
      "\n",
      "Weighted Average F1-score: 0.9775994808564882\n",
      "\n",
      "             precision    recall  f1-score   support\n",
      "\n",
      "          0       1.00      0.97      0.98      1693\n",
      "          1       0.95      0.99      0.97       972\n",
      "\n",
      "avg / total       0.98      0.98      0.98      2665\n",
      "\n",
      "\n"
     ]
    },
    {
     "data": {
      "image/png": "[encoded data removed]",
      "text/plain": [
       "<Figure size 432x288 with 1 Axes>"
      ]
     },
     "metadata": {},
     "output_type": "display_data"
    }
   ],
   "source": [
    "model_evaluation.test_clf(clf, X_test, y_test)"
   ]
  },
  {
   "cell_type": "code",
   "execution_count": null,
   "metadata": {},
   "outputs": [],
   "source": [
    "model_evaluation.decision_boundary_scatterplots(X_test, y_test, clf)"
   ]
  },
  {
   "cell_type": "markdown",
   "metadata": {},
   "source": [
    "# \\Logistic Regression\\"
   ]
  },
  {
   "cell_type": "code",
   "execution_count": 5,
   "metadata": {},
   "outputs": [],
   "source": [
    "from sklearn.linear_model import LogisticRegression"
   ]
  },
  {
   "cell_type": "code",
   "execution_count": 6,
   "metadata": {},
   "outputs": [
    {
     "data": {
      "text/plain": [
       "LogisticRegression(C=1.0, class_weight=None, dual=False, fit_intercept=True,\n",
       "          intercept_scaling=1, max_iter=100, multi_class='ovr', n_jobs=1,\n",
       "          penalty='l2', random_state=0, solver='liblinear', tol=0.0001,\n",
       "          verbose=0, warm_start=False)"
      ]
     },
     "execution_count": 6,
     "metadata": {},
     "output_type": "execute_result"
    }
   ],
   "source": [
    "#seleziona il modello\n",
    "clf = LogisticRegression(random_state=0)\n",
    "\n",
    "#fitta il modello\n",
    "clf.fit(X_train, y_train)"
   ]
  },
  {
   "cell_type": "code",
   "execution_count": 7,
   "metadata": {
    "scrolled": true
   },
   "outputs": [
    {
     "name": "stdout",
     "output_type": "stream",
     "text": [
      "Coefficients:\n",
      "[[-5.16482752e-01  4.40977352e-02  1.99510758e-02  4.31632202e-03\n",
      "  -3.47110769e-05]]\n",
      "\n",
      "Intercept:\n",
      "[-0.01569535]\n"
     ]
    }
   ],
   "source": [
    "print('Coefficients:', clf.coef_, sep='\\n', end='\\n\\n')\n",
    "print('Intercept:', clf.intercept_, sep='\\n')"
   ]
  },
  {
   "cell_type": "markdown",
   "metadata": {},
   "source": [
    "## Validazione del Modello"
   ]
  },
  {
   "cell_type": "code",
   "execution_count": 8,
   "metadata": {},
   "outputs": [
    {
     "name": "stdout",
     "output_type": "stream",
     "text": [
      "Accuracy at a 95 percent confidence interval: 0.99 (+/- 0.03)\n",
      "\n",
      "F1 Score at a 95 percent confidence interval: 0.98 (+/- 0.04)\n"
     ]
    }
   ],
   "source": [
    "model_evaluation.validate_clf(clf, X_train, y_train)"
   ]
  },
  {
   "cell_type": "markdown",
   "metadata": {},
   "source": [
    "## Test del modello"
   ]
  },
  {
   "cell_type": "code",
   "execution_count": 9,
   "metadata": {
    "scrolled": false
   },
   "outputs": [
    {
     "name": "stdout",
     "output_type": "stream",
     "text": [
      "Accuracy: 0.9782363977485928\n",
      "\n",
      "F1-score: [0.98260348 0.97094188]\n",
      "\n",
      "Weighted Average F1-score: 0.9783501694123646\n",
      "\n",
      "             precision    recall  f1-score   support\n",
      "\n",
      "          0       1.00      0.97      0.98      1693\n",
      "          1       0.95      1.00      0.97       972\n",
      "\n",
      "avg / total       0.98      0.98      0.98      2665\n",
      "\n",
      "\n"
     ]
    },
    {
     "data": {
      "image/png": "[encoded data removed]",
      "text/plain": [
       "<Figure size 432x288 with 1 Axes>"
      ]
     },
     "metadata": {},
     "output_type": "display_data"
    }
   ],
   "source": [
    "model_evaluation.test_clf(clf, X_test, y_test)"
   ]
  },
  {
   "cell_type": "code",
   "execution_count": null,
   "metadata": {},
   "outputs": [],
   "source": [
    "model_evaluation.decision_boundary_scatterplots(X_test, y_test, clf)"
   ]
  },
  {
   "cell_type": "markdown",
   "metadata": {},
   "source": [
    "# Export risultati migliori"
   ]
  },
  {
   "cell_type": "code",
   "execution_count": 10,
   "metadata": {},
   "outputs": [],
   "source": [
    "df_handle.export_results(X_test=X_test, y_test=y_test, clf_or_reg=clf,\n",
    "                         exoprt_path=modulesPath, outFileName='logisticReg_pred_results')"
   ]
  },
  {
   "cell_type": "code",
   "execution_count": null,
   "metadata": {},
   "outputs": [],
   "source": [
    "\n",
    "\n",
    "\n",
    "\n",
    "\n",
    "\n",
    "\n",
    "\n",
    "\n",
    "\n",
    "\n",
    "\n",
    "\n",
    "\n",
    "\n",
    "\n",
    "\n"
   ]
  },
  {
   "cell_type": "markdown",
   "metadata": {},
   "source": [
    "# -------  solo 'Light' in input"
   ]
  },
  {
   "cell_type": "markdown",
   "metadata": {},
   "source": [
    "Feature più importante secondo il Decision Tree:  'Light'"
   ]
  },
  {
   "cell_type": "code",
   "execution_count": 6,
   "metadata": {
    "scrolled": true
   },
   "outputs": [
    {
     "name": "stdout",
     "output_type": "stream",
     "text": [
      "Coefficient: [[0.02186489]]\n",
      "\n",
      "Intercept: [-7.54818231]\n",
      "\n",
      "\n"
     ]
    },
    {
     "data": {
      "image/png": "[encoded data removed]",
      "text/plain": [
       "<Figure size 432x288 with 1 Axes>"
      ]
     },
     "metadata": {},
     "output_type": "display_data"
    },
    {
     "name": "stdout",
     "output_type": "stream",
     "text": [
      "\n",
      "\n",
      "Model Validation on Training Set\n",
      "\n",
      "\n",
      "Accuracy at a 95 percent confidence interval: 0.97 (+/- 0.05)\n",
      "\n",
      "F1 Score at a 95 percent confidence interval: 0.96 (+/- 0.07)\n",
      "\n",
      "\n",
      "\n",
      "Model Test on Test Set\n",
      "\n",
      "\n",
      "Accuracy: 0.9786116322701689\n",
      "\n",
      "F1-score: [0.98290855 0.97142857]\n",
      "\n",
      "Weighted Average F1-score: 0.9787214781780913\n",
      "\n",
      "             precision    recall  f1-score   support\n",
      "\n",
      "          0       1.00      0.97      0.98      1693\n",
      "          1       0.95      1.00      0.97       972\n",
      "\n",
      "avg / total       0.98      0.98      0.98      2665\n",
      "\n",
      "\n"
     ]
    },
    {
     "data": {
      "image/png": "[encoded data removed]",
      "text/plain": [
       "<Figure size 432x288 with 1 Axes>"
      ]
     },
     "metadata": {},
     "output_type": "display_data"
    }
   ],
   "source": [
    "modeling.oneDim_logisticReg(X_train, X_test, y_train, y_test, selected_col='Light', selected_col_max=800, outClass='Occupancy')"
   ]
  },
  {
   "cell_type": "markdown",
   "metadata": {},
   "source": [
    "# -------  Predire 'Light' tramite tutti gli altri attributi"
   ]
  },
  {
   "cell_type": "markdown",
   "metadata": {},
   "source": [
    "Feature più importante secondo il Decision Tree:  'Light'"
   ]
  },
  {
   "cell_type": "code",
   "execution_count": 53,
   "metadata": {},
   "outputs": [],
   "source": [
    "selected_columns = X_train.columns.difference(['Light'])\n",
    "\n",
    "new_X_train = X_train[selected_columns]\n",
    "new_X_test = X_test[selected_columns]\n",
    "\n",
    "new_y_train = X_train['Light']\n",
    "new_y_test = X_test['Light']"
   ]
  },
  {
   "cell_type": "markdown",
   "metadata": {},
   "source": [
    "# \\Linear Regression\\"
   ]
  },
  {
   "cell_type": "code",
   "execution_count": 54,
   "metadata": {},
   "outputs": [],
   "source": [
    "from sklearn.linear_model import LinearRegression"
   ]
  },
  {
   "cell_type": "code",
   "execution_count": 55,
   "metadata": {},
   "outputs": [
    {
     "name": "stdout",
     "output_type": "stream",
     "text": [
      "Coefficients: \n",
      " [ 5.73942904e-01  1.99727669e+02 -1.38230452e+06  3.54978233e+02]\n",
      "\n",
      "Intercept: \n",
      " -7348.062921895676\n"
     ]
    }
   ],
   "source": [
    "#seleziona il modello\n",
    "reg = LinearRegression()\n",
    "\n",
    "#fitta il modello\n",
    "reg.fit(new_X_train, new_y_train)\n",
    "\n",
    "print('Coefficients: \\n', reg.coef_, end='\\n\\n')\n",
    "print('Intercept: \\n', reg.intercept_)"
   ]
  },
  {
   "cell_type": "markdown",
   "metadata": {},
   "source": [
    "## Test del modello"
   ]
  },
  {
   "cell_type": "code",
   "execution_count": 56,
   "metadata": {
    "scrolled": false
   },
   "outputs": [
    {
     "name": "stdout",
     "output_type": "stream",
     "text": [
      "R2: 0.543\n",
      "MSE: 28603.062\n",
      "MAE: 136.903\n"
     ]
    }
   ],
   "source": [
    "model_evaluation.test_reg(reg, new_X_test, new_y_test)"
   ]
  },
  {
   "cell_type": "markdown",
   "metadata": {},
   "source": [
    "# \\Lasso\\"
   ]
  },
  {
   "cell_type": "code",
   "execution_count": 57,
   "metadata": {},
   "outputs": [],
   "source": [
    "from sklearn.linear_model import Lasso"
   ]
  },
  {
   "cell_type": "code",
   "execution_count": 58,
   "metadata": {},
   "outputs": [
    {
     "name": "stdout",
     "output_type": "stream",
     "text": [
      "Coefficients: \n",
      " [ 0.35181318 -5.89903946 -0.         58.07430808]\n",
      "\n",
      "Intercept: \n",
      " -1139.519428475392\n"
     ]
    }
   ],
   "source": [
    "reg = Lasso()\n",
    "\n",
    "reg.fit(new_X_train, new_y_train)\n",
    "\n",
    "\n",
    "print('Coefficients: \\n', reg.coef_, end='\\n\\n')\n",
    "print('Intercept: \\n', reg.intercept_)"
   ]
  },
  {
   "cell_type": "markdown",
   "metadata": {},
   "source": [
    "## Test del modello"
   ]
  },
  {
   "cell_type": "code",
   "execution_count": 59,
   "metadata": {
    "scrolled": false
   },
   "outputs": [
    {
     "name": "stdout",
     "output_type": "stream",
     "text": [
      "R2: 0.594\n",
      "MSE: 25415.886\n",
      "MAE: 131.483\n"
     ]
    }
   ],
   "source": [
    "model_evaluation.test_reg(reg, new_X_test, new_y_test)"
   ]
  },
  {
   "cell_type": "markdown",
   "metadata": {},
   "source": [
    "# \\Ridge\\"
   ]
  },
  {
   "cell_type": "code",
   "execution_count": 60,
   "metadata": {},
   "outputs": [],
   "source": [
    "from sklearn.linear_model import Ridge"
   ]
  },
  {
   "cell_type": "code",
   "execution_count": 61,
   "metadata": {
    "scrolled": true
   },
   "outputs": [
    {
     "name": "stdout",
     "output_type": "stream",
     "text": [
      "Coefficients: \n",
      " [  0.3477621   -5.78251719 -15.82717156  59.82726223]\n",
      "\n",
      "Intercept: \n",
      " -1176.143727608895\n"
     ]
    }
   ],
   "source": [
    "reg = Ridge()\n",
    "\n",
    "reg.fit(new_X_train, new_y_train)\n",
    "\n",
    "\n",
    "print('Coefficients: \\n', reg.coef_, end='\\n\\n')\n",
    "print('Intercept: \\n', reg.intercept_)"
   ]
  },
  {
   "cell_type": "markdown",
   "metadata": {},
   "source": [
    "## Test del modello"
   ]
  },
  {
   "cell_type": "code",
   "execution_count": 62,
   "metadata": {
    "scrolled": false
   },
   "outputs": [
    {
     "name": "stdout",
     "output_type": "stream",
     "text": [
      "R2: 0.595\n",
      "MSE: 25364.214\n",
      "MAE: 131.360\n"
     ]
    }
   ],
   "source": [
    "model_evaluation.test_reg(reg, new_X_test, new_y_test)"
   ]
  },
  {
   "cell_type": "markdown",
   "metadata": {},
   "source": [
    "# -------  Nuovo Dataset"
   ]
  },
  {
   "cell_type": "markdown",
   "metadata": {},
   "source": [
    "Feature più importante secondo il Decision Tree:  'Light'"
   ]
  },
  {
   "cell_type": "code",
   "execution_count": 11,
   "metadata": {},
   "outputs": [],
   "source": [
    "selected_columns = 'Humidity'\n",
    "\n",
    "new_X_train = X_train[[selected_columns]]\n",
    "new_X_test = X_test[[selected_columns]]\n",
    "\n",
    "new_y_train = X_train['Light']\n",
    "new_y_test = X_test['Light']"
   ]
  },
  {
   "cell_type": "markdown",
   "metadata": {},
   "source": [
    "# Regression in 2 dimensions: predire 'Light' tramite 'Humidity'"
   ]
  },
  {
   "cell_type": "markdown",
   "metadata": {},
   "source": [
    "# \\Linear Regression\\"
   ]
  },
  {
   "cell_type": "code",
   "execution_count": 12,
   "metadata": {},
   "outputs": [],
   "source": [
    "from sklearn.linear_model import LinearRegression"
   ]
  },
  {
   "cell_type": "code",
   "execution_count": 13,
   "metadata": {},
   "outputs": [
    {
     "name": "stdout",
     "output_type": "stream",
     "text": [
      "Coefficients: \n",
      " [1.33193462]\n",
      "\n",
      "Intercept: \n",
      " 85.24668915887341\n"
     ]
    }
   ],
   "source": [
    "#seleziona il modello\n",
    "reg = LinearRegression()\n",
    "\n",
    "#fitta il modello\n",
    "reg.fit(new_X_train, new_y_train)\n",
    "\n",
    "print('Coefficients: \\n', reg.coef_, end='\\n\\n')\n",
    "print('Intercept: \\n', reg.intercept_)"
   ]
  },
  {
   "cell_type": "markdown",
   "metadata": {},
   "source": [
    "## Test del modello"
   ]
  },
  {
   "cell_type": "code",
   "execution_count": 14,
   "metadata": {
    "scrolled": false
   },
   "outputs": [
    {
     "name": "stdout",
     "output_type": "stream",
     "text": [
      "R2: -0.074\n",
      "MSE: 67187.503\n",
      "MAE: 216.605\n"
     ]
    }
   ],
   "source": [
    "model_evaluation.test_reg(reg, new_X_test, new_y_test)"
   ]
  },
  {
   "cell_type": "code",
   "execution_count": 32,
   "metadata": {},
   "outputs": [
    {
     "data": {
      "image/png": "[encoded data removed]",
      "text/plain": [
       "<Figure size 432x288 with 1 Axes>"
      ]
     },
     "metadata": {},
     "output_type": "display_data"
    }
   ],
   "source": [
    "y_pred = reg.predict(new_X_test)\n",
    "\n",
    "plt.scatter(new_X_test, new_y_test,  color='black')\n",
    "plt.plot(new_X_test, y_pred, color='blue', linewidth=3)\n",
    "plt.xlabel('Height')\n",
    "plt.ylabel('Mass')\n",
    "\n",
    "plt.show()"
   ]
  },
  {
   "cell_type": "markdown",
   "metadata": {},
   "source": [
    "# \\Lasso\\"
   ]
  },
  {
   "cell_type": "code",
   "execution_count": 33,
   "metadata": {},
   "outputs": [],
   "source": [
    "from sklearn.linear_model import Lasso"
   ]
  },
  {
   "cell_type": "code",
   "execution_count": 34,
   "metadata": {},
   "outputs": [
    {
     "name": "stdout",
     "output_type": "stream",
     "text": [
      "Coefficients: \n",
      " [1.29924477]\n",
      "\n",
      "Intercept: \n",
      " 86.08784818954301\n"
     ]
    }
   ],
   "source": [
    "reg = Lasso()\n",
    "\n",
    "reg.fit(new_X_train, new_y_train)\n",
    "\n",
    "\n",
    "print('Coefficients: \\n', reg.coef_, end='\\n\\n')\n",
    "print('Intercept: \\n', reg.intercept_)"
   ]
  },
  {
   "cell_type": "markdown",
   "metadata": {},
   "source": [
    "## Test del modello"
   ]
  },
  {
   "cell_type": "code",
   "execution_count": 35,
   "metadata": {
    "scrolled": false
   },
   "outputs": [
    {
     "name": "stdout",
     "output_type": "stream",
     "text": [
      "R2: -0.074\n",
      "MSE: 67207.551\n",
      "MAE: 216.655\n"
     ]
    }
   ],
   "source": [
    "model_evaluation.test_reg(reg, new_X_test, new_y_test)"
   ]
  },
  {
   "cell_type": "code",
   "execution_count": 36,
   "metadata": {},
   "outputs": [
    {
     "data": {
      "image/png": "[encoded data removed]",
      "text/plain": [
       "<Figure size 432x288 with 1 Axes>"
      ]
     },
     "metadata": {},
     "output_type": "display_data"
    }
   ],
   "source": [
    "y_pred = reg.predict(new_X_test)\n",
    "\n",
    "plt.scatter(new_X_test, new_y_test,  color='black')\n",
    "plt.plot(new_X_test, y_pred, color='blue', linewidth=3)\n",
    "plt.xlabel('Height')\n",
    "plt.ylabel('Mass')\n",
    "\n",
    "plt.show()"
   ]
  },
  {
   "cell_type": "markdown",
   "metadata": {},
   "source": [
    "# \\Ridge\\"
   ]
  },
  {
   "cell_type": "code",
   "execution_count": 37,
   "metadata": {},
   "outputs": [],
   "source": [
    "from sklearn.linear_model import Ridge"
   ]
  },
  {
   "cell_type": "code",
   "execution_count": 38,
   "metadata": {
    "scrolled": true
   },
   "outputs": [
    {
     "name": "stdout",
     "output_type": "stream",
     "text": [
      "Coefficients: \n",
      " [1.33192927]\n",
      "\n",
      "Intercept: \n",
      " 85.24682674506221\n"
     ]
    }
   ],
   "source": [
    "reg = Ridge()\n",
    "\n",
    "reg.fit(new_X_train, new_y_train)\n",
    "\n",
    "\n",
    "print('Coefficients: \\n', reg.coef_, end='\\n\\n')\n",
    "print('Intercept: \\n', reg.intercept_)"
   ]
  },
  {
   "cell_type": "markdown",
   "metadata": {},
   "source": [
    "## Test del modello"
   ]
  },
  {
   "cell_type": "code",
   "execution_count": 39,
   "metadata": {
    "scrolled": false
   },
   "outputs": [
    {
     "name": "stdout",
     "output_type": "stream",
     "text": [
      "R2: -0.074\n",
      "MSE: 67187.506\n",
      "MAE: 216.605\n"
     ]
    }
   ],
   "source": [
    "model_evaluation.test_reg(reg, new_X_test, new_y_test)"
   ]
  },
  {
   "cell_type": "code",
   "execution_count": 40,
   "metadata": {},
   "outputs": [
    {
     "data": {
      "image/png": "[encoded data removed]",
      "text/plain": [
       "<Figure size 432x288 with 1 Axes>"
      ]
     },
     "metadata": {},
     "output_type": "display_data"
    }
   ],
   "source": [
    "y_pred = reg.predict(new_X_test)\n",
    "\n",
    "plt.scatter(new_X_test, new_y_test,  color='black')\n",
    "plt.plot(new_X_test, y_pred, color='blue', linewidth=3)\n",
    "plt.xlabel('Height')\n",
    "plt.ylabel('Mass')\n",
    "\n",
    "plt.show()"
   ]
  },
  {
   "cell_type": "markdown",
   "metadata": {},
   "source": [
    "## confronto Regressione Lineare e Logistica"
   ]
  },
  {
   "cell_type": "code",
   "execution_count": 41,
   "metadata": {
    "scrolled": true
   },
   "outputs": [
    {
     "data": {
      "image/png": "[encoded data removed]",
      "text/plain": [
       "<Figure size 432x288 with 1 Axes>"
      ]
     },
     "metadata": {},
     "output_type": "display_data"
    }
   ],
   "source": [
    "plt.scatter(new_X_train, y_train)\n",
    "\n",
    "loss = expit(sorted(new_X_test.values) * clf.coef_ + clf.intercept_).ravel()\n",
    "plt.plot(sorted(new_X_test.values), loss, color='orange', linewidth=3)\n",
    "\n",
    "plt.plot(sorted(new_X_test.values), reg.coef_ * sorted(new_X_test.values) + reg.intercept_, color='red', linewidth=3)\n",
    "\n",
    "\n",
    "plt.xlabel(selected_columns[0], fontsize=16)\n",
    "plt.ylabel('Churn', fontsize=16)\n",
    "plt.tick_params(axis='both', which='major', labelsize=16)\n",
    "plt.show()"
   ]
  },
  {
   "cell_type": "code",
   "execution_count": null,
   "metadata": {},
   "outputs": [],
   "source": []
  },
  {
   "cell_type": "code",
   "execution_count": null,
   "metadata": {},
   "outputs": [],
   "source": []
  },
  {
   "cell_type": "code",
   "execution_count": null,
   "metadata": {},
   "outputs": [],
   "source": []
  },
  {
   "cell_type": "code",
   "execution_count": null,
   "metadata": {},
   "outputs": [],
   "source": []
  },
  {
   "cell_type": "markdown",
   "metadata": {},
   "source": [
    "# PCA"
   ]
  },
  {
   "cell_type": "code",
   "execution_count": null,
   "metadata": {},
   "outputs": [],
   "source": [
    "from sklearn.decomposition import PCA"
   ]
  },
  {
   "cell_type": "code",
   "execution_count": null,
   "metadata": {},
   "outputs": [],
   "source": [
    "pca = PCA(n_components=2)\n",
    "pca.fit(X_train)\n",
    "X_train_pca = pca.transform(X_train)"
   ]
  },
  {
   "cell_type": "code",
   "execution_count": null,
   "metadata": {},
   "outputs": [],
   "source": [
    "X_train_pca.shape"
   ]
  },
  {
   "cell_type": "code",
   "execution_count": null,
   "metadata": {},
   "outputs": [],
   "source": [
    "plt.scatter(X_train_pca[:, 0], X_train_pca[:, 1], c=y_train, cmap=plt.cm.prism, edgecolor='k', alpha=0.7)\n",
    "plt.show()"
   ]
  },
  {
   "cell_type": "code",
   "execution_count": null,
   "metadata": {},
   "outputs": [],
   "source": [
    "X_test_pca = pca.transform(X_test)\n",
    "\n",
    "clf = DecisionTreeClassifier(min_samples_leaf=3, random_state=42)\n",
    "clf.fit(X_train_pca, y_train)\n",
    "\n",
    "y_pred = clf.predict(X_test_pca)\n",
    "\n",
    "print('Accuracy %s' % accuracy_score(y_test, y_pred))\n",
    "print('F1-score %s' % f1_score(y_test, y_pred, average=None))\n",
    "print(classification_report(y_test, y_pred))"
   ]
  },
  {
   "cell_type": "code",
   "execution_count": null,
   "metadata": {},
   "outputs": [],
   "source": [
    "plt.plot(PCA(n_components=4).fit(iris.data).explained_variance_ratio_, lw=3, color='r', ms=2)\n",
    "plt.title(\"PCA\")\n",
    "plt.ylabel(\"Fraction of Variance\")\n",
    "plt.xticks(range(4), iris.feature_names)\n",
    "plt.show()"
   ]
  }
 ],
 "metadata": {
  "kernelspec": {
   "display_name": "Python 3",
   "language": "python",
   "name": "python3"
  },
  "language_info": {
   "codemirror_mode": {
    "name": "ipython",
    "version": 3
   },
   "file_extension": ".py",
   "mimetype": "text/x-python",
   "name": "python",
   "nbconvert_exporter": "python",
   "pygments_lexer": "ipython3",
   "version": "3.6.5"
  }
 },
 "nbformat": 4,
 "nbformat_minor": 2
}
